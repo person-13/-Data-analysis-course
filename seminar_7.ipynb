{
 "cells": [
  {
   "cell_type": "markdown",
   "id": "canadian-translation",
   "metadata": {},
   "source": [
    "<font size=+2 color=\"indigo\"><center><b>Семинар 7</b></center></font>"
   ]
  },
  {
   "cell_type": "markdown",
   "id": "overall-memorabilia",
   "metadata": {},
   "source": [
    "<font size=+2 color=\"indigo\"><center><b> Функции</b></center></font>"
   ]
  },
  {
   "cell_type": "markdown",
   "id": "medium-overview",
   "metadata": {},
   "source": [
    "<a id=\"top\"></a>\n",
    "\n",
    "<div class=\"list-group\" id=\"list-tab\" role=\"tablist\">\n",
    "<big class=\"list-group-item list-group-item-action active\" data-toggle=\"list\"  role=\"tab\" aria-controls=\"home\"> СТРУКТУРА СЕМИНАРА</big>\n",
    "\n",
    "* [1. Библиотека tqdm](#1)\n",
    "\n",
    "\n",
    "* [2. Функции](#2)\n",
    "\n",
    "\n",
    "*   * [2.1 Пример использования](#2.1)\n",
    "\n",
    "\n",
    "*   * [2.2 Синтаксис функций](#2.2)"
   ]
  },
  {
   "cell_type": "markdown",
   "id": "considerable-cooling",
   "metadata": {},
   "source": [
    "<a id=\"1\"></a>\n",
    "    \n",
    "<font size=\"+2\" color=\"indigo\"><b>1. Библиотека tqdm</b></font><br>"
   ]
  },
  {
   "cell_type": "markdown",
   "id": "driven-restoration",
   "metadata": {},
   "source": [
    "Библиотека tqdm поможет рассчитать время выполнения программы. Данная библиотека используется только с циклами. Она измеряет время одной итерации и умножает его на общее количество итераций. При этом данная операция сопровождается визуальным сопровождением.  \n"
   ]
  },
  {
   "cell_type": "code",
   "execution_count": 1,
   "id": "diagnostic-massachusetts",
   "metadata": {},
   "outputs": [],
   "source": [
    "# Изначально необходимо импортировать библиотеку.\n",
    "\n",
    "import tqdm"
   ]
  },
  {
   "cell_type": "code",
   "execution_count": null,
   "id": "determined-inventory",
   "metadata": {},
   "outputs": [],
   "source": [
    "# Нас будет интересовать только функция tqdm() внутри библиотеки tqdm.\n",
    "# Чтобы вызвать данную функцию, необходимо записать следующее выражение:\n",
    "# tqdm.tqdm()"
   ]
  },
  {
   "cell_type": "code",
   "execution_count": 3,
   "id": "lasting-suspect",
   "metadata": {},
   "outputs": [
    {
     "data": {
      "text/plain": [
       "[0,\n",
       " 1,\n",
       " 2,\n",
       " 3,\n",
       " 4,\n",
       " 5,\n",
       " 6,\n",
       " 7,\n",
       " 8,\n",
       " 9,\n",
       " 10,\n",
       " 11,\n",
       " 12,\n",
       " 13,\n",
       " 14,\n",
       " 15,\n",
       " 16,\n",
       " 17,\n",
       " 18,\n",
       " 19,\n",
       " 20,\n",
       " 21,\n",
       " 22,\n",
       " 23,\n",
       " 24,\n",
       " 25,\n",
       " 26,\n",
       " 27,\n",
       " 28,\n",
       " 29,\n",
       " 30,\n",
       " 31,\n",
       " 32,\n",
       " 33,\n",
       " 34,\n",
       " 35,\n",
       " 36,\n",
       " 37,\n",
       " 38,\n",
       " 39,\n",
       " 40,\n",
       " 41,\n",
       " 42,\n",
       " 43,\n",
       " 44,\n",
       " 45,\n",
       " 46,\n",
       " 47,\n",
       " 48,\n",
       " 49,\n",
       " 50,\n",
       " 51,\n",
       " 52,\n",
       " 53,\n",
       " 54,\n",
       " 55,\n",
       " 56,\n",
       " 57,\n",
       " 58,\n",
       " 59,\n",
       " 60,\n",
       " 61,\n",
       " 62,\n",
       " 63,\n",
       " 64,\n",
       " 65,\n",
       " 66,\n",
       " 67,\n",
       " 68,\n",
       " 69,\n",
       " 70,\n",
       " 71,\n",
       " 72,\n",
       " 73,\n",
       " 74,\n",
       " 75,\n",
       " 76,\n",
       " 77,\n",
       " 78,\n",
       " 79,\n",
       " 80,\n",
       " 81,\n",
       " 82,\n",
       " 83,\n",
       " 84,\n",
       " 85,\n",
       " 86,\n",
       " 87,\n",
       " 88,\n",
       " 89,\n",
       " 90,\n",
       " 91,\n",
       " 92,\n",
       " 93,\n",
       " 94,\n",
       " 95,\n",
       " 96,\n",
       " 97,\n",
       " 98,\n",
       " 99,\n",
       " 100,\n",
       " 101,\n",
       " 102,\n",
       " 103,\n",
       " 104,\n",
       " 105,\n",
       " 106,\n",
       " 107,\n",
       " 108,\n",
       " 109,\n",
       " 110,\n",
       " 111,\n",
       " 112,\n",
       " 113,\n",
       " 114,\n",
       " 115,\n",
       " 116,\n",
       " 117,\n",
       " 118,\n",
       " 119,\n",
       " 120,\n",
       " 121,\n",
       " 122,\n",
       " 123,\n",
       " 124,\n",
       " 125,\n",
       " 126,\n",
       " 127,\n",
       " 128,\n",
       " 129,\n",
       " 130,\n",
       " 131,\n",
       " 132,\n",
       " 133,\n",
       " 134,\n",
       " 135,\n",
       " 136,\n",
       " 137,\n",
       " 138,\n",
       " 139,\n",
       " 140,\n",
       " 141,\n",
       " 142,\n",
       " 143,\n",
       " 144,\n",
       " 145,\n",
       " 146,\n",
       " 147,\n",
       " 148,\n",
       " 149,\n",
       " 150,\n",
       " 151,\n",
       " 152,\n",
       " 153,\n",
       " 154,\n",
       " 155,\n",
       " 156,\n",
       " 157,\n",
       " 158,\n",
       " 159,\n",
       " 160,\n",
       " 161,\n",
       " 162,\n",
       " 163,\n",
       " 164,\n",
       " 165,\n",
       " 166,\n",
       " 167,\n",
       " 168,\n",
       " 169,\n",
       " 170,\n",
       " 171,\n",
       " 172,\n",
       " 173,\n",
       " 174,\n",
       " 175,\n",
       " 176,\n",
       " 177,\n",
       " 178,\n",
       " 179,\n",
       " 180,\n",
       " 181,\n",
       " 182,\n",
       " 183,\n",
       " 184,\n",
       " 185,\n",
       " 186,\n",
       " 187,\n",
       " 188,\n",
       " 189,\n",
       " 190,\n",
       " 191,\n",
       " 192,\n",
       " 193,\n",
       " 194,\n",
       " 195,\n",
       " 196,\n",
       " 197,\n",
       " 198,\n",
       " 199,\n",
       " 200,\n",
       " 201,\n",
       " 202,\n",
       " 203,\n",
       " 204,\n",
       " 205,\n",
       " 206,\n",
       " 207,\n",
       " 208,\n",
       " 209,\n",
       " 210,\n",
       " 211,\n",
       " 212,\n",
       " 213,\n",
       " 214,\n",
       " 215,\n",
       " 216,\n",
       " 217,\n",
       " 218,\n",
       " 219,\n",
       " 220,\n",
       " 221,\n",
       " 222,\n",
       " 223,\n",
       " 224,\n",
       " 225,\n",
       " 226,\n",
       " 227,\n",
       " 228,\n",
       " 229,\n",
       " 230,\n",
       " 231,\n",
       " 232,\n",
       " 233,\n",
       " 234,\n",
       " 235,\n",
       " 236,\n",
       " 237,\n",
       " 238,\n",
       " 239,\n",
       " 240,\n",
       " 241,\n",
       " 242,\n",
       " 243,\n",
       " 244,\n",
       " 245,\n",
       " 246,\n",
       " 247,\n",
       " 248,\n",
       " 249,\n",
       " 250,\n",
       " 251,\n",
       " 252,\n",
       " 253,\n",
       " 254,\n",
       " 255,\n",
       " 256,\n",
       " 257,\n",
       " 258,\n",
       " 259,\n",
       " 260,\n",
       " 261,\n",
       " 262,\n",
       " 263,\n",
       " 264,\n",
       " 265,\n",
       " 266,\n",
       " 267,\n",
       " 268,\n",
       " 269,\n",
       " 270,\n",
       " 271,\n",
       " 272,\n",
       " 273,\n",
       " 274,\n",
       " 275,\n",
       " 276,\n",
       " 277,\n",
       " 278,\n",
       " 279,\n",
       " 280,\n",
       " 281,\n",
       " 282,\n",
       " 283,\n",
       " 284,\n",
       " 285,\n",
       " 286,\n",
       " 287,\n",
       " 288,\n",
       " 289,\n",
       " 290,\n",
       " 291,\n",
       " 292,\n",
       " 293,\n",
       " 294,\n",
       " 295,\n",
       " 296,\n",
       " 297,\n",
       " 298,\n",
       " 299,\n",
       " 300,\n",
       " 301,\n",
       " 302,\n",
       " 303,\n",
       " 304,\n",
       " 305,\n",
       " 306,\n",
       " 307,\n",
       " 308,\n",
       " 309,\n",
       " 310,\n",
       " 311,\n",
       " 312,\n",
       " 313,\n",
       " 314,\n",
       " 315,\n",
       " 316,\n",
       " 317,\n",
       " 318,\n",
       " 319,\n",
       " 320,\n",
       " 321,\n",
       " 322,\n",
       " 323,\n",
       " 324,\n",
       " 325,\n",
       " 326,\n",
       " 327,\n",
       " 328,\n",
       " 329,\n",
       " 330,\n",
       " 331,\n",
       " 332,\n",
       " 333,\n",
       " 334,\n",
       " 335,\n",
       " 336,\n",
       " 337,\n",
       " 338,\n",
       " 339,\n",
       " 340,\n",
       " 341,\n",
       " 342,\n",
       " 343,\n",
       " 344,\n",
       " 345,\n",
       " 346,\n",
       " 347,\n",
       " 348,\n",
       " 349,\n",
       " 350,\n",
       " 351,\n",
       " 352,\n",
       " 353,\n",
       " 354,\n",
       " 355,\n",
       " 356,\n",
       " 357,\n",
       " 358,\n",
       " 359,\n",
       " 360,\n",
       " 361,\n",
       " 362,\n",
       " 363,\n",
       " 364,\n",
       " 365,\n",
       " 366,\n",
       " 367,\n",
       " 368,\n",
       " 369,\n",
       " 370,\n",
       " 371,\n",
       " 372,\n",
       " 373,\n",
       " 374,\n",
       " 375,\n",
       " 376,\n",
       " 377,\n",
       " 378,\n",
       " 379,\n",
       " 380,\n",
       " 381,\n",
       " 382,\n",
       " 383,\n",
       " 384,\n",
       " 385,\n",
       " 386,\n",
       " 387,\n",
       " 388,\n",
       " 389,\n",
       " 390,\n",
       " 391,\n",
       " 392,\n",
       " 393,\n",
       " 394,\n",
       " 395,\n",
       " 396,\n",
       " 397,\n",
       " 398,\n",
       " 399,\n",
       " 400,\n",
       " 401,\n",
       " 402,\n",
       " 403,\n",
       " 404,\n",
       " 405,\n",
       " 406,\n",
       " 407,\n",
       " 408,\n",
       " 409,\n",
       " 410,\n",
       " 411,\n",
       " 412,\n",
       " 413,\n",
       " 414,\n",
       " 415,\n",
       " 416,\n",
       " 417,\n",
       " 418,\n",
       " 419,\n",
       " 420,\n",
       " 421,\n",
       " 422,\n",
       " 423,\n",
       " 424,\n",
       " 425,\n",
       " 426,\n",
       " 427,\n",
       " 428,\n",
       " 429,\n",
       " 430,\n",
       " 431,\n",
       " 432,\n",
       " 433,\n",
       " 434,\n",
       " 435,\n",
       " 436,\n",
       " 437,\n",
       " 438,\n",
       " 439,\n",
       " 440,\n",
       " 441,\n",
       " 442,\n",
       " 443,\n",
       " 444,\n",
       " 445,\n",
       " 446,\n",
       " 447,\n",
       " 448,\n",
       " 449,\n",
       " 450,\n",
       " 451,\n",
       " 452,\n",
       " 453,\n",
       " 454,\n",
       " 455,\n",
       " 456,\n",
       " 457,\n",
       " 458,\n",
       " 459,\n",
       " 460,\n",
       " 461,\n",
       " 462,\n",
       " 463,\n",
       " 464,\n",
       " 465,\n",
       " 466,\n",
       " 467,\n",
       " 468,\n",
       " 469,\n",
       " 470,\n",
       " 471,\n",
       " 472,\n",
       " 473,\n",
       " 474,\n",
       " 475,\n",
       " 476,\n",
       " 477,\n",
       " 478,\n",
       " 479,\n",
       " 480,\n",
       " 481,\n",
       " 482,\n",
       " 483,\n",
       " 484,\n",
       " 485,\n",
       " 486,\n",
       " 487,\n",
       " 488,\n",
       " 489,\n",
       " 490,\n",
       " 491,\n",
       " 492,\n",
       " 493,\n",
       " 494,\n",
       " 495,\n",
       " 496,\n",
       " 497,\n",
       " 498,\n",
       " 499,\n",
       " 500,\n",
       " 501,\n",
       " 502,\n",
       " 503,\n",
       " 504,\n",
       " 505,\n",
       " 506,\n",
       " 507,\n",
       " 508,\n",
       " 509,\n",
       " 510,\n",
       " 511,\n",
       " 512,\n",
       " 513,\n",
       " 514,\n",
       " 515,\n",
       " 516,\n",
       " 517,\n",
       " 518,\n",
       " 519,\n",
       " 520,\n",
       " 521,\n",
       " 522,\n",
       " 523,\n",
       " 524,\n",
       " 525,\n",
       " 526,\n",
       " 527,\n",
       " 528,\n",
       " 529,\n",
       " 530,\n",
       " 531,\n",
       " 532,\n",
       " 533,\n",
       " 534,\n",
       " 535,\n",
       " 536,\n",
       " 537,\n",
       " 538,\n",
       " 539,\n",
       " 540,\n",
       " 541,\n",
       " 542,\n",
       " 543,\n",
       " 544,\n",
       " 545,\n",
       " 546,\n",
       " 547,\n",
       " 548,\n",
       " 549,\n",
       " 550,\n",
       " 551,\n",
       " 552,\n",
       " 553,\n",
       " 554,\n",
       " 555,\n",
       " 556,\n",
       " 557,\n",
       " 558,\n",
       " 559,\n",
       " 560,\n",
       " 561,\n",
       " 562,\n",
       " 563,\n",
       " 564,\n",
       " 565,\n",
       " 566,\n",
       " 567,\n",
       " 568,\n",
       " 569,\n",
       " 570,\n",
       " 571,\n",
       " 572,\n",
       " 573,\n",
       " 574,\n",
       " 575,\n",
       " 576,\n",
       " 577,\n",
       " 578,\n",
       " 579,\n",
       " 580,\n",
       " 581,\n",
       " 582,\n",
       " 583,\n",
       " 584,\n",
       " 585,\n",
       " 586,\n",
       " 587,\n",
       " 588,\n",
       " 589,\n",
       " 590,\n",
       " 591,\n",
       " 592,\n",
       " 593,\n",
       " 594,\n",
       " 595,\n",
       " 596,\n",
       " 597,\n",
       " 598,\n",
       " 599,\n",
       " 600,\n",
       " 601,\n",
       " 602,\n",
       " 603,\n",
       " 604,\n",
       " 605,\n",
       " 606,\n",
       " 607,\n",
       " 608,\n",
       " 609,\n",
       " 610,\n",
       " 611,\n",
       " 612,\n",
       " 613,\n",
       " 614,\n",
       " 615,\n",
       " 616,\n",
       " 617,\n",
       " 618,\n",
       " 619,\n",
       " 620,\n",
       " 621,\n",
       " 622,\n",
       " 623,\n",
       " 624,\n",
       " 625,\n",
       " 626,\n",
       " 627,\n",
       " 628,\n",
       " 629,\n",
       " 630,\n",
       " 631,\n",
       " 632,\n",
       " 633,\n",
       " 634,\n",
       " 635,\n",
       " 636,\n",
       " 637,\n",
       " 638,\n",
       " 639,\n",
       " 640,\n",
       " 641,\n",
       " 642,\n",
       " 643,\n",
       " 644,\n",
       " 645,\n",
       " 646,\n",
       " 647,\n",
       " 648,\n",
       " 649,\n",
       " 650,\n",
       " 651,\n",
       " 652,\n",
       " 653,\n",
       " 654,\n",
       " 655,\n",
       " 656,\n",
       " 657,\n",
       " 658,\n",
       " 659,\n",
       " 660,\n",
       " 661,\n",
       " 662,\n",
       " 663,\n",
       " 664,\n",
       " 665,\n",
       " 666,\n",
       " 667,\n",
       " 668,\n",
       " 669,\n",
       " 670,\n",
       " 671,\n",
       " 672,\n",
       " 673,\n",
       " 674,\n",
       " 675,\n",
       " 676,\n",
       " 677,\n",
       " 678,\n",
       " 679,\n",
       " 680,\n",
       " 681,\n",
       " 682,\n",
       " 683,\n",
       " 684,\n",
       " 685,\n",
       " 686,\n",
       " 687,\n",
       " 688,\n",
       " 689,\n",
       " 690,\n",
       " 691,\n",
       " 692,\n",
       " 693,\n",
       " 694,\n",
       " 695,\n",
       " 696,\n",
       " 697,\n",
       " 698,\n",
       " 699,\n",
       " 700,\n",
       " 701,\n",
       " 702,\n",
       " 703,\n",
       " 704,\n",
       " 705,\n",
       " 706,\n",
       " 707,\n",
       " 708,\n",
       " 709,\n",
       " 710,\n",
       " 711,\n",
       " 712,\n",
       " 713,\n",
       " 714,\n",
       " 715,\n",
       " 716,\n",
       " 717,\n",
       " 718,\n",
       " 719,\n",
       " 720,\n",
       " 721,\n",
       " 722,\n",
       " 723,\n",
       " 724,\n",
       " 725,\n",
       " 726,\n",
       " 727,\n",
       " 728,\n",
       " 729,\n",
       " 730,\n",
       " 731,\n",
       " 732,\n",
       " 733,\n",
       " 734,\n",
       " 735,\n",
       " 736,\n",
       " 737,\n",
       " 738,\n",
       " 739,\n",
       " 740,\n",
       " 741,\n",
       " 742,\n",
       " 743,\n",
       " 744,\n",
       " 745,\n",
       " 746,\n",
       " 747,\n",
       " 748,\n",
       " 749,\n",
       " 750,\n",
       " 751,\n",
       " 752,\n",
       " 753,\n",
       " 754,\n",
       " 755,\n",
       " 756,\n",
       " 757,\n",
       " 758,\n",
       " 759,\n",
       " 760,\n",
       " 761,\n",
       " 762,\n",
       " 763,\n",
       " 764,\n",
       " 765,\n",
       " 766,\n",
       " 767,\n",
       " 768,\n",
       " 769,\n",
       " 770,\n",
       " 771,\n",
       " 772,\n",
       " 773,\n",
       " 774,\n",
       " 775,\n",
       " 776,\n",
       " 777,\n",
       " 778,\n",
       " 779,\n",
       " 780,\n",
       " 781,\n",
       " 782,\n",
       " 783,\n",
       " 784,\n",
       " 785,\n",
       " 786,\n",
       " 787,\n",
       " 788,\n",
       " 789,\n",
       " 790,\n",
       " 791,\n",
       " 792,\n",
       " 793,\n",
       " 794,\n",
       " 795,\n",
       " 796,\n",
       " 797,\n",
       " 798,\n",
       " 799,\n",
       " 800,\n",
       " 801,\n",
       " 802,\n",
       " 803,\n",
       " 804,\n",
       " 805,\n",
       " 806,\n",
       " 807,\n",
       " 808,\n",
       " 809,\n",
       " 810,\n",
       " 811,\n",
       " 812,\n",
       " 813,\n",
       " 814,\n",
       " 815,\n",
       " 816,\n",
       " 817,\n",
       " 818,\n",
       " 819,\n",
       " 820,\n",
       " 821,\n",
       " 822,\n",
       " 823,\n",
       " 824,\n",
       " 825,\n",
       " 826,\n",
       " 827,\n",
       " 828,\n",
       " 829,\n",
       " 830,\n",
       " 831,\n",
       " 832,\n",
       " 833,\n",
       " 834,\n",
       " 835,\n",
       " 836,\n",
       " 837,\n",
       " 838,\n",
       " 839,\n",
       " 840,\n",
       " 841,\n",
       " 842,\n",
       " 843,\n",
       " 844,\n",
       " 845,\n",
       " 846,\n",
       " 847,\n",
       " 848,\n",
       " 849,\n",
       " 850,\n",
       " 851,\n",
       " 852,\n",
       " 853,\n",
       " 854,\n",
       " 855,\n",
       " 856,\n",
       " 857,\n",
       " 858,\n",
       " 859,\n",
       " 860,\n",
       " 861,\n",
       " 862,\n",
       " 863,\n",
       " 864,\n",
       " 865,\n",
       " 866,\n",
       " 867,\n",
       " 868,\n",
       " 869,\n",
       " 870,\n",
       " 871,\n",
       " 872,\n",
       " 873,\n",
       " 874,\n",
       " 875,\n",
       " 876,\n",
       " 877,\n",
       " 878,\n",
       " 879,\n",
       " 880,\n",
       " 881,\n",
       " 882,\n",
       " 883,\n",
       " 884,\n",
       " 885,\n",
       " 886,\n",
       " 887,\n",
       " 888,\n",
       " 889,\n",
       " 890,\n",
       " 891,\n",
       " 892,\n",
       " 893,\n",
       " 894,\n",
       " 895,\n",
       " 896,\n",
       " 897,\n",
       " 898,\n",
       " 899,\n",
       " 900,\n",
       " 901,\n",
       " 902,\n",
       " 903,\n",
       " 904,\n",
       " 905,\n",
       " 906,\n",
       " 907,\n",
       " 908,\n",
       " 909,\n",
       " 910,\n",
       " 911,\n",
       " 912,\n",
       " 913,\n",
       " 914,\n",
       " 915,\n",
       " 916,\n",
       " 917,\n",
       " 918,\n",
       " 919,\n",
       " 920,\n",
       " 921,\n",
       " 922,\n",
       " 923,\n",
       " 924,\n",
       " 925,\n",
       " 926,\n",
       " 927,\n",
       " 928,\n",
       " 929,\n",
       " 930,\n",
       " 931,\n",
       " 932,\n",
       " 933,\n",
       " 934,\n",
       " 935,\n",
       " 936,\n",
       " 937,\n",
       " 938,\n",
       " 939,\n",
       " 940,\n",
       " 941,\n",
       " 942,\n",
       " 943,\n",
       " 944,\n",
       " 945,\n",
       " 946,\n",
       " 947,\n",
       " 948,\n",
       " 949,\n",
       " 950,\n",
       " 951,\n",
       " 952,\n",
       " 953,\n",
       " 954,\n",
       " 955,\n",
       " 956,\n",
       " 957,\n",
       " 958,\n",
       " 959,\n",
       " 960,\n",
       " 961,\n",
       " 962,\n",
       " 963,\n",
       " 964,\n",
       " 965,\n",
       " 966,\n",
       " 967,\n",
       " 968,\n",
       " 969,\n",
       " 970,\n",
       " 971,\n",
       " 972,\n",
       " 973,\n",
       " 974,\n",
       " 975,\n",
       " 976,\n",
       " 977,\n",
       " 978,\n",
       " 979,\n",
       " 980,\n",
       " 981,\n",
       " 982,\n",
       " 983,\n",
       " 984,\n",
       " 985,\n",
       " 986,\n",
       " 987,\n",
       " 988,\n",
       " 989,\n",
       " 990,\n",
       " 991,\n",
       " 992,\n",
       " 993,\n",
       " 994,\n",
       " 995,\n",
       " 996,\n",
       " 997,\n",
       " 998,\n",
       " 999,\n",
       " ...]"
      ]
     },
     "execution_count": 3,
     "metadata": {},
     "output_type": "execute_result"
    }
   ],
   "source": [
    "# Давайте посмотрим, как работает функция tqdm().\n",
    "# Изначально создадим список из 100_000_000 элементов.\n",
    "elements = ([i for i in range(100_000_000)])\n",
    "elements"
   ]
  },
  {
   "cell_type": "code",
   "execution_count": 6,
   "id": "identical-guess",
   "metadata": {},
   "outputs": [
    {
     "data": {
      "text/plain": [
       "4999999950000000"
      ]
     },
     "execution_count": 6,
     "metadata": {},
     "output_type": "execute_result"
    }
   ],
   "source": [
    "# Давайте поссчитаем сумму всех элементов, содержащихся в списке elements.\n",
    "\n",
    "sum_element = 0\n",
    "\n",
    "for i in elements:\n",
    "    sum_element += i\n",
    "sum_element\n",
    "\n",
    "# Мы поссчитали сумму, однако мы не понимали, как долго будет выполняться программа."
   ]
  },
  {
   "cell_type": "code",
   "execution_count": 7,
   "id": "dietary-concrete",
   "metadata": {},
   "outputs": [
    {
     "name": "stderr",
     "output_type": "stream",
     "text": [
      "100%|███████████████████████████████████████████████████████████████| 100000000/100000000 [00:23<00:00, 4256374.06it/s]\n"
     ]
    },
    {
     "data": {
      "text/plain": [
       "4999999950000000"
      ]
     },
     "execution_count": 7,
     "metadata": {},
     "output_type": "execute_result"
    }
   ],
   "source": [
    "# Воспользуемся функцией tqdm().\n",
    "\n",
    "sum_element = 0\n",
    "\n",
    "for i in tqdm.tqdm(elements):  # Обязательно данную функцию необходимо писать в цикле.\n",
    "                               # В функцию tqdm() необходимо передать список, по которому мы будем итерировать,\n",
    "                               # в данном случае это список под названием elements.\n",
    "    sum_element += i\n",
    "sum_element\n",
    "\n",
    "# Как мы видим, ниже отображается шкала выполнения программы.\n",
    "# Теперь мы можем отслеживать время выполнения программы.  "
   ]
  },
  {
   "cell_type": "code",
   "execution_count": 9,
   "id": "hollywood-waste",
   "metadata": {},
   "outputs": [],
   "source": [
    "# Мы можем иначе импортировать функцию tqdm() из библиотеки tqdm.\n",
    "\n",
    "from tqdm import tqdm # При таком способе импорта мы на прямую можем обращаться к функции tqdm().\n",
    "                      # Ранее вызывали функцию следующим образом: tqdm.tqdm(). Теперь можно так: tqdm()."
   ]
  },
  {
   "cell_type": "code",
   "execution_count": 10,
   "id": "assigned-charger",
   "metadata": {},
   "outputs": [
    {
     "name": "stderr",
     "output_type": "stream",
     "text": [
      "100%|███████████████████████████████████████████████████████████████| 100000000/100000000 [00:23<00:00, 4217100.42it/s]\n"
     ]
    },
    {
     "data": {
      "text/plain": [
       "4999999950000000"
      ]
     },
     "execution_count": 10,
     "metadata": {},
     "output_type": "execute_result"
    }
   ],
   "source": [
    "sum_element = 0\n",
    "\n",
    "for i in tqdm(elements):\n",
    "    sum_element += i\n",
    "sum_element"
   ]
  },
  {
   "cell_type": "markdown",
   "id": "handled-effort",
   "metadata": {},
   "source": [
    "<a id=\"2\"></a>\n",
    "    \n",
    "<font size=\"+2\" color=\"indigo\"><b>2. Функции</b></font><br>"
   ]
  },
  {
   "cell_type": "markdown",
   "id": "otherwise-membership",
   "metadata": {},
   "source": [
    "Функции помогают сократить количество строк кода за счёт повторного использования старых строк кода, соответственно, снижается количество допускаемых ошибок при написании программы. "
   ]
  },
  {
   "cell_type": "markdown",
   "id": "passing-fraction",
   "metadata": {},
   "source": [
    "<a id=\"2.1\"></a>\n",
    "    \n",
    "<font size=\"+2\" color=\"indigo\"><b>2.1 Пример использования</b></font><br>"
   ]
  },
  {
   "cell_type": "code",
   "execution_count": 13,
   "id": "quiet-customer",
   "metadata": {},
   "outputs": [],
   "source": [
    "# На первом занятии мы составляли собственную библиотеку.\n",
    "# Эта библиотека содержала функции, которые могли рассчитывать площадь различных фигур. "
   ]
  },
  {
   "cell_type": "code",
   "execution_count": null,
   "id": "tender-associate",
   "metadata": {},
   "outputs": [],
   "source": [
    "def area_rhombus(): # Команда 4 # Площадь ромба\n",
    "    \n",
    "    print(\"start\")\n",
    "    a = int(input(\"введите первую диогональ\"))\n",
    "    b = int(input(\"введите вторую диогональ\"))\n",
    "    S = (a*b)/2\n",
    "    print(S)\n",
    "    print(\"finish\")\n",
    "    \n",
    "    return S\n",
    "\n",
    "def area_triangle(): # Команда 1 # Площадь треугольника\n",
    "    \n",
    "    a=int(input('Введите сторону треугольника'))\n",
    "    a\n",
    "    h=int(input('Введите высоту треугольника'))\n",
    "    h\n",
    "    S=1/2*a*h\n",
    "    S\n",
    "\n",
    "    return S\n",
    "\n",
    "def area_circle(): # Команда 2 # Площадь круга\n",
    "    \n",
    "    r = float(input('Введите радиус окружности: '))\n",
    "    S = 3.14*(r**2)\n",
    "    print('Площадь фигуры равна',S)\n",
    "    \n",
    "    return S\n",
    "     \n",
    "def area_trapezoid(): # Команда 3 # Площадь трапеции\n",
    "    \n",
    "    a = int(input(\"Введите первое основание трапеции\"))\n",
    "    b = int(input(\"Введите второе основание трапеции\"))\n",
    "    c = int(input(\"Введите высоту трапеции\"))\n",
    "    S = ((a+b)/2)*c\n",
    "    print(S)\n",
    "    \n",
    "    return S"
   ]
  },
  {
   "cell_type": "code",
   "execution_count": 14,
   "id": "weekly-physics",
   "metadata": {},
   "outputs": [],
   "source": [
    "# Давайте воспользуемся функцией, которая считает площадь круга\n",
    "\n",
    "def area_circle(): # Команда 2 # Площадь круга\n",
    "    \n",
    "    r = float(input('Введите радиус окружности: '))\n",
    "    S = 3.14*(r**2)\n",
    "    print('Площадь фигуры равна',S)\n",
    "    \n",
    "    return S\n",
    "     "
   ]
  },
  {
   "cell_type": "code",
   "execution_count": 15,
   "id": "original-champion",
   "metadata": {},
   "outputs": [
    {
     "name": "stdout",
     "output_type": "stream",
     "text": [
      "Введите радиус окружности: 5\n",
      "Площадь фигуры равна 78.5\n"
     ]
    },
    {
     "data": {
      "text/plain": [
       "78.5"
      ]
     },
     "execution_count": 15,
     "metadata": {},
     "output_type": "execute_result"
    }
   ],
   "source": [
    "area_circle() # Для того чтобы вызвать функцию, необходимо написать её имя.\n",
    "\n",
    "# Посчитаем плоадь круга радиуса 5. "
   ]
  },
  {
   "cell_type": "code",
   "execution_count": 16,
   "id": "radical-young",
   "metadata": {},
   "outputs": [
    {
     "name": "stdout",
     "output_type": "stream",
     "text": [
      "Введите радиус окружности: 6\n",
      "Площадь фигуры равна 113.04\n"
     ]
    },
    {
     "data": {
      "text/plain": [
       "113.04"
      ]
     },
     "execution_count": 16,
     "metadata": {},
     "output_type": "execute_result"
    }
   ],
   "source": [
    "area_circle()\n",
    "\n",
    "# Посчитаем плоадь круга радиуса 6."
   ]
  },
  {
   "cell_type": "code",
   "execution_count": 17,
   "id": "forty-inquiry",
   "metadata": {},
   "outputs": [
    {
     "name": "stdout",
     "output_type": "stream",
     "text": [
      "Введите радиус окружности: 5\n",
      "Площадь фигуры равна 78.5\n"
     ]
    }
   ],
   "source": [
    "# Если бы не было функций, мы бы каждый раз дублировали код (в программах с большим количеством\n",
    "# строк это привело бы к путанице), чтобы посчитать площадь круга с заднным радиусом. \n",
    "\n",
    "r = float(input('Введите радиус окружности: '))\n",
    "S = 3.14*(r**2)\n",
    "print('Площадь фигуры равна',S)\n",
    "\n",
    "# Посчитаем плоадь круга радиусом 5. "
   ]
  },
  {
   "cell_type": "code",
   "execution_count": 18,
   "id": "forbidden-capital",
   "metadata": {},
   "outputs": [
    {
     "name": "stdout",
     "output_type": "stream",
     "text": [
      "Введите радиус окружности: 6\n",
      "Площадь фигуры равна 113.04\n"
     ]
    }
   ],
   "source": [
    "r = float(input('Введите радиус окружности: '))\n",
    "S = 3.14*(r**2)\n",
    "print('Площадь фигуры равна',S)\n",
    "\n",
    "# Посчитаем плоадь круга радиусом 6."
   ]
  },
  {
   "cell_type": "markdown",
   "id": "obvious-steps",
   "metadata": {},
   "source": [
    "<a id=\"2.2\"></a>\n",
    "    \n",
    "<font size=\"+2\" color=\"indigo\"><b>2.2 Синтаксис функций</b></font><br>"
   ]
  },
  {
   "cell_type": "code",
   "execution_count": null,
   "id": "linear-reader",
   "metadata": {},
   "outputs": [],
   "source": [
    "# Написание функции всегда должно начинаться со слова def,\n",
    "# после данного слова идёт название функции,\n",
    "# после названия необходимо ставить двоеточие."
   ]
  },
  {
   "cell_type": "markdown",
   "id": "celtic-piano",
   "metadata": {},
   "source": [
    "**Функция, которая складывает два числа**"
   ]
  },
  {
   "cell_type": "code",
   "execution_count": 22,
   "id": "solid-reading",
   "metadata": {},
   "outputs": [
    {
     "ename": "SyntaxError",
     "evalue": "unexpected EOF while parsing (<ipython-input-22-fd0ce1ea9289>, line 3)",
     "output_type": "error",
     "traceback": [
      "\u001b[1;36m  File \u001b[1;32m\"<ipython-input-22-fd0ce1ea9289>\"\u001b[1;36m, line \u001b[1;32m3\u001b[0m\n\u001b[1;33m    # В\u001b[0m\n\u001b[1;37m       ^\u001b[0m\n\u001b[1;31mSyntaxError\u001b[0m\u001b[1;31m:\u001b[0m unexpected EOF while parsing\n"
     ]
    }
   ],
   "source": [
    "def add(x, y): # С такой записи начинается написание любой функции в Python.\n",
    "    \n",
    "# В данном случае происходит ошибка, так как функция ещё не дописана."
   ]
  },
  {
   "cell_type": "code",
   "execution_count": 24,
   "id": "fuzzy-local",
   "metadata": {},
   "outputs": [],
   "source": [
    "# Создадим функцию, которая будет складывать два числа.\n",
    "\n",
    "def add(x, y):  # в скобках содержатся аргументы, которые передаются в функцию. \n",
    "    return x+y  # Функцию необязательно заканчивать словом return, но желательно.\n",
    "                # Функция должна возвращать результат. Если не использовать оператор \n",
    "                # return, то результат не будет возвращаться. \n",
    "\n",
    "# В данном случаем оператор return вернёт сумму чисел. "
   ]
  },
  {
   "cell_type": "code",
   "execution_count": 25,
   "id": "revised-forest",
   "metadata": {},
   "outputs": [
    {
     "ename": "NameError",
     "evalue": "name 'x' is not defined",
     "output_type": "error",
     "traceback": [
      "\u001b[1;31m---------------------------------------------------------------------------\u001b[0m",
      "\u001b[1;31mNameError\u001b[0m                                 Traceback (most recent call last)",
      "\u001b[1;32m<ipython-input-25-066c1be38f29>\u001b[0m in \u001b[0;36m<module>\u001b[1;34m\u001b[0m\n\u001b[1;32m----> 1\u001b[1;33m \u001b[0madd\u001b[0m\u001b[1;33m(\u001b[0m\u001b[0mx\u001b[0m\u001b[1;33m,\u001b[0m \u001b[0my\u001b[0m\u001b[1;33m)\u001b[0m\u001b[1;33m\u001b[0m\u001b[1;33m\u001b[0m\u001b[0m\n\u001b[0m",
      "\u001b[1;31mNameError\u001b[0m: name 'x' is not defined"
     ]
    }
   ],
   "source": [
    "add(x, y)  # Вместо x и y необходимо записать числа"
   ]
  },
  {
   "cell_type": "code",
   "execution_count": 26,
   "id": "conscious-cylinder",
   "metadata": {},
   "outputs": [
    {
     "data": {
      "text/plain": [
       "12"
      ]
     },
     "execution_count": 26,
     "metadata": {},
     "output_type": "execute_result"
    }
   ],
   "source": [
    "add(5, 7)"
   ]
  },
  {
   "cell_type": "code",
   "execution_count": 27,
   "id": "outside-honolulu",
   "metadata": {},
   "outputs": [
    {
     "data": {
      "text/plain": [
       "12"
      ]
     },
     "execution_count": 27,
     "metadata": {},
     "output_type": "execute_result"
    }
   ],
   "source": [
    "# Можно и следующим образом передать аргументы:\n",
    "\n",
    "x = 5\n",
    "y = 7\n",
    "add(x, y)"
   ]
  },
  {
   "cell_type": "code",
   "execution_count": 28,
   "id": "isolated-smoke",
   "metadata": {},
   "outputs": [],
   "source": [
    "# Можно и так:\n",
    "\n",
    "def add(x, y):  \n",
    "    sum_arg = x+y\n",
    "    return sum_arg "
   ]
  },
  {
   "cell_type": "code",
   "execution_count": 29,
   "id": "opposed-peoples",
   "metadata": {},
   "outputs": [
    {
     "data": {
      "text/plain": [
       "50"
      ]
     },
     "execution_count": 29,
     "metadata": {},
     "output_type": "execute_result"
    }
   ],
   "source": [
    "add(20, 30)"
   ]
  },
  {
   "cell_type": "code",
   "execution_count": 30,
   "id": "adult-subject",
   "metadata": {},
   "outputs": [],
   "source": [
    "def add(x, y):  \n",
    "    sum_arg = x+y\n",
    "    return 10        # Если в return записать констатнту (например, 10 ),\n",
    "                     # то return всегда будет возвращать число 10,\n",
    "                     # независимо от того, какие аргументы мы передали в функцию."
   ]
  },
  {
   "cell_type": "code",
   "execution_count": 31,
   "id": "legitimate-portable",
   "metadata": {},
   "outputs": [
    {
     "data": {
      "text/plain": [
       "10"
      ]
     },
     "execution_count": 31,
     "metadata": {},
     "output_type": "execute_result"
    }
   ],
   "source": [
    "add(20, 30)"
   ]
  },
  {
   "cell_type": "code",
   "execution_count": 32,
   "id": "inside-hamburg",
   "metadata": {},
   "outputs": [
    {
     "data": {
      "text/plain": [
       "10"
      ]
     },
     "execution_count": 32,
     "metadata": {},
     "output_type": "execute_result"
    }
   ],
   "source": [
    "add(100, 320)"
   ]
  },
  {
   "cell_type": "markdown",
   "id": "wrong-listening",
   "metadata": {},
   "source": [
    "**Функция, которая перемножает три числа**"
   ]
  },
  {
   "cell_type": "code",
   "execution_count": 34,
   "id": "transparent-conservative",
   "metadata": {},
   "outputs": [],
   "source": [
    "# Теперь создадим функцию, которая будет перемножать три числа.\n",
    "\n",
    "def multiplication(number_one, number_two, number_three): # Передаём три аргумента.\n",
    "    multi = number_one*number_two*number_three\n",
    "    return multi"
   ]
  },
  {
   "cell_type": "code",
   "execution_count": 35,
   "id": "caroline-kitty",
   "metadata": {},
   "outputs": [
    {
     "data": {
      "text/plain": [
       "12"
      ]
     },
     "execution_count": 35,
     "metadata": {},
     "output_type": "execute_result"
    }
   ],
   "source": [
    "# Воспользуемся этой функцией.\n",
    "\n",
    "multiplication(2, 2, 3)"
   ]
  },
  {
   "cell_type": "code",
   "execution_count": 36,
   "id": "acoustic-fifth",
   "metadata": {},
   "outputs": [
    {
     "ename": "TypeError",
     "evalue": "multiplication() missing 1 required positional argument: 'number_three'",
     "output_type": "error",
     "traceback": [
      "\u001b[1;31m---------------------------------------------------------------------------\u001b[0m",
      "\u001b[1;31mTypeError\u001b[0m                                 Traceback (most recent call last)",
      "\u001b[1;32m<ipython-input-36-c4e300774855>\u001b[0m in \u001b[0;36m<module>\u001b[1;34m\u001b[0m\n\u001b[0;32m      1\u001b[0m \u001b[1;31m# Что будет если передать два аргумента, а не три?\u001b[0m\u001b[1;33m\u001b[0m\u001b[1;33m\u001b[0m\u001b[1;33m\u001b[0m\u001b[0m\n\u001b[0;32m      2\u001b[0m \u001b[1;33m\u001b[0m\u001b[0m\n\u001b[1;32m----> 3\u001b[1;33m \u001b[0mmultiplication\u001b[0m\u001b[1;33m(\u001b[0m\u001b[1;36m2\u001b[0m\u001b[1;33m,\u001b[0m \u001b[1;36m2\u001b[0m\u001b[1;33m)\u001b[0m\u001b[1;33m\u001b[0m\u001b[1;33m\u001b[0m\u001b[0m\n\u001b[0m",
      "\u001b[1;31mTypeError\u001b[0m: multiplication() missing 1 required positional argument: 'number_three'"
     ]
    }
   ],
   "source": [
    "# Что будет, если передать два аргумента, а не три?\n",
    "# Возникнет ошибка. \n",
    "multiplication(2, 2)\n",
    "\n",
    "# missing 1 required positional argument: 'number_three'\n",
    "# Необходимо передать ещё один позиционный аргумент. "
   ]
  },
  {
   "cell_type": "code",
   "execution_count": 37,
   "id": "secure-simon",
   "metadata": {},
   "outputs": [
    {
     "ename": "TypeError",
     "evalue": "multiplication() missing 2 required positional arguments: 'number_two' and 'number_three'",
     "output_type": "error",
     "traceback": [
      "\u001b[1;31m---------------------------------------------------------------------------\u001b[0m",
      "\u001b[1;31mTypeError\u001b[0m                                 Traceback (most recent call last)",
      "\u001b[1;32m<ipython-input-37-376649e365e4>\u001b[0m in \u001b[0;36m<module>\u001b[1;34m\u001b[0m\n\u001b[1;32m----> 1\u001b[1;33m \u001b[0mmultiplication\u001b[0m\u001b[1;33m(\u001b[0m\u001b[1;36m2\u001b[0m\u001b[1;33m)\u001b[0m\u001b[1;33m\u001b[0m\u001b[1;33m\u001b[0m\u001b[0m\n\u001b[0m",
      "\u001b[1;31mTypeError\u001b[0m: multiplication() missing 2 required positional arguments: 'number_two' and 'number_three'"
     ]
    }
   ],
   "source": [
    "multiplication(2) # Если передать один аргумент."
   ]
  },
  {
   "cell_type": "code",
   "execution_count": 38,
   "id": "incoming-processor",
   "metadata": {},
   "outputs": [
    {
     "ename": "TypeError",
     "evalue": "multiplication() missing 3 required positional arguments: 'number_one', 'number_two', and 'number_three'",
     "output_type": "error",
     "traceback": [
      "\u001b[1;31m---------------------------------------------------------------------------\u001b[0m",
      "\u001b[1;31mTypeError\u001b[0m                                 Traceback (most recent call last)",
      "\u001b[1;32m<ipython-input-38-069386c931c1>\u001b[0m in \u001b[0;36m<module>\u001b[1;34m\u001b[0m\n\u001b[1;32m----> 1\u001b[1;33m \u001b[0mmultiplication\u001b[0m\u001b[1;33m(\u001b[0m\u001b[1;33m)\u001b[0m\u001b[1;33m\u001b[0m\u001b[1;33m\u001b[0m\u001b[0m\n\u001b[0m",
      "\u001b[1;31mTypeError\u001b[0m: multiplication() missing 3 required positional arguments: 'number_one', 'number_two', and 'number_three'"
     ]
    }
   ],
   "source": [
    "multiplication() # Если ничего не передать."
   ]
  },
  {
   "cell_type": "code",
   "execution_count": 39,
   "id": "absent-motorcycle",
   "metadata": {},
   "outputs": [
    {
     "ename": "TypeError",
     "evalue": "multiplication() takes 3 positional arguments but 4 were given",
     "output_type": "error",
     "traceback": [
      "\u001b[1;31m---------------------------------------------------------------------------\u001b[0m",
      "\u001b[1;31mTypeError\u001b[0m                                 Traceback (most recent call last)",
      "\u001b[1;32m<ipython-input-39-42063c0f5966>\u001b[0m in \u001b[0;36m<module>\u001b[1;34m\u001b[0m\n\u001b[1;32m----> 1\u001b[1;33m \u001b[0mmultiplication\u001b[0m\u001b[1;33m(\u001b[0m\u001b[1;36m1\u001b[0m\u001b[1;33m,\u001b[0m\u001b[1;36m2\u001b[0m\u001b[1;33m,\u001b[0m\u001b[1;36m3\u001b[0m\u001b[1;33m,\u001b[0m\u001b[1;36m4\u001b[0m\u001b[1;33m)\u001b[0m\u001b[1;33m\u001b[0m\u001b[1;33m\u001b[0m\u001b[0m\n\u001b[0m",
      "\u001b[1;31mTypeError\u001b[0m: multiplication() takes 3 positional arguments but 4 were given"
     ]
    }
   ],
   "source": [
    "# возникнет ошибка, если передать больше аргуметов, чем изначально задано в функции.\n",
    "\n",
    "multiplication(1,2,3,4) "
   ]
  },
  {
   "cell_type": "code",
   "execution_count": null,
   "id": "lined-cheese",
   "metadata": {},
   "outputs": [],
   "source": [
    "# Возникает следующий вопрос: как аргументам присваиваются значения? \n",
    "\n",
    "#   multiplication(     2,          2,           5     )\n",
    "def multiplication(number_one, number_two, number_three)\n",
    "\n",
    "# Первое значение, переданное функции, присваивается первому аргументу,\n",
    "# второе - второму аргументу и т.д.\n",
    "    \n",
    "    # number_one = 2\n",
    "    # number_two = 2\n",
    "    # number_three = 5\n",
    "\n",
    "    multi = number_one*number_two*number_three\n",
    "    \n",
    "    return multi\n"
   ]
  },
  {
   "cell_type": "code",
   "execution_count": 44,
   "id": "precise-documentary",
   "metadata": {},
   "outputs": [],
   "source": [
    "# Аргументы могут содержать значения по дефолту (по умолчанию).\n",
    "# В данном случае number_three будет равно 10.\n",
    "\n",
    "def multiplication(number_one , number_two, number_three = 10):\n",
    "    multi = number_one*number_two*number_three\n",
    "    return multi\n"
   ]
  },
  {
   "cell_type": "code",
   "execution_count": 45,
   "id": "meaning-soundtrack",
   "metadata": {},
   "outputs": [
    {
     "data": {
      "text/plain": [
       "60"
      ]
     },
     "execution_count": 45,
     "metadata": {},
     "output_type": "execute_result"
    }
   ],
   "source": [
    "multiplication(2, 3) # Ошибки не возникло, так как number_three = 10\n",
    "\n",
    "# Получается, аргументы содержат следующие значения:\n",
    "\n",
    "# number_one = 2\n",
    "# number_two = 3\n",
    "# number_three = 10"
   ]
  },
  {
   "cell_type": "code",
   "execution_count": 46,
   "id": "mineral-matter",
   "metadata": {},
   "outputs": [],
   "source": [
    "# Можно всем аргументам присвоить значения по умолчанию.\n",
    "\n",
    "def multiplication(number_one = 2 , number_two = 3, number_three = 10):\n",
    "    multi = number_one*number_two*number_three\n",
    "    return multi"
   ]
  },
  {
   "cell_type": "code",
   "execution_count": 47,
   "id": "aggregate-california",
   "metadata": {},
   "outputs": [
    {
     "data": {
      "text/plain": [
       "60"
      ]
     },
     "execution_count": 47,
     "metadata": {},
     "output_type": "execute_result"
    }
   ],
   "source": [
    "multiplication()  # Тогда можно и не передавать значения в функцию."
   ]
  },
  {
   "cell_type": "code",
   "execution_count": 48,
   "id": "everyday-newspaper",
   "metadata": {},
   "outputs": [
    {
     "data": {
      "text/plain": [
       "24"
      ]
     },
     "execution_count": 48,
     "metadata": {},
     "output_type": "execute_result"
    }
   ],
   "source": [
    "multiplication(2,3,4) # Можно и передать, тогда значения по умолчанию сменятся\n",
    "                      # на переданные. "
   ]
  },
  {
   "cell_type": "markdown",
   "id": "clear-infection",
   "metadata": {},
   "source": [
    "**Описание функции**"
   ]
  },
  {
   "cell_type": "markdown",
   "id": "removable-hygiene",
   "metadata": {},
   "source": [
    "Если функция содержит внутри себя огромное количество строк, то нам сложно будет понять, что функция вычисляет и зачем она нужна. Чтобы избежать данной проблемы, необходимо сделать описание функции."
   ]
  },
  {
   "cell_type": "code",
   "execution_count": 50,
   "id": "piano-mills",
   "metadata": {},
   "outputs": [],
   "source": [
    "def multiplication(number_one = 2 , number_two = 3, number_three = 10):\n",
    "    \n",
    "    \"\"\"\n",
    "    \n",
    "    Функция принимает на вход три числа, перемножает переданные числа и \n",
    "    возвращает их произведение.\n",
    "    \n",
    "    \"\"\"\n",
    "    \n",
    "    multi = number_one*number_two*number_three\n",
    "    return multi"
   ]
  },
  {
   "cell_type": "code",
   "execution_count": 51,
   "id": "cultural-andorra",
   "metadata": {},
   "outputs": [
    {
     "name": "stdout",
     "output_type": "stream",
     "text": [
      "Help on function multiplication in module __main__:\n",
      "\n",
      "multiplication(number_one=2, number_two=3, number_three=10)\n",
      "    Функция принимает на вход три числа. Перемножает переданные числа и \n",
      "    возвращает их произведение.\n",
      "\n"
     ]
    }
   ],
   "source": [
    "# Теперь мы можем воспользоваться функцией help \n",
    "# и посмотреть описание нашей функции. \n",
    "help(multiplication)"
   ]
  },
  {
   "cell_type": "code",
   "execution_count": 52,
   "id": "sticky-guide",
   "metadata": {},
   "outputs": [
    {
     "name": "stdout",
     "output_type": "stream",
     "text": [
      "Help on built-in function print in module builtins:\n",
      "\n",
      "print(...)\n",
      "    print(value, ..., sep=' ', end='\\n', file=sys.stdout, flush=False)\n",
      "    \n",
      "    Prints the values to a stream, or to sys.stdout by default.\n",
      "    Optional keyword arguments:\n",
      "    file:  a file-like object (stream); defaults to the current sys.stdout.\n",
      "    sep:   string inserted between values, default a space.\n",
      "    end:   string appended after the last value, default a newline.\n",
      "    flush: whether to forcibly flush the stream.\n",
      "\n"
     ]
    }
   ],
   "source": [
    "# аналогично этому ранее мы рассматривали функцию print.\n",
    "help(print)"
   ]
  },
  {
   "cell_type": "markdown",
   "id": "expired-camera",
   "metadata": {},
   "source": [
    "**arg**"
   ]
  },
  {
   "cell_type": "code",
   "execution_count": 54,
   "id": "convertible-address",
   "metadata": {},
   "outputs": [],
   "source": [
    "# Что, если мы хотим передать в функцию сразу несколько значений, но\n",
    "# количество значений всегда будет разное, при этом заранее нам неизвестное? \n",
    "\n",
    "# Для этого мы можем воспользоваться оператором \"*\" - в данном случае это не умножение.\n",
    "\n",
    "def func_arg(*arg): # перед arg необходимо записать звёздочку, чтобы \n",
    "                    # функция работала так, как мы хотим. \n",
    "    return arg"
   ]
  },
  {
   "cell_type": "code",
   "execution_count": 55,
   "id": "sunrise-activation",
   "metadata": {},
   "outputs": [
    {
     "data": {
      "text/plain": [
       "(1, 2, 3)"
      ]
     },
     "execution_count": 55,
     "metadata": {},
     "output_type": "execute_result"
    }
   ],
   "source": [
    "func_arg(1,2,3) # Передадим три значения."
   ]
  },
  {
   "cell_type": "code",
   "execution_count": 56,
   "id": "conscious-level",
   "metadata": {},
   "outputs": [
    {
     "data": {
      "text/plain": [
       "(1, 2, 3, 4, 5, 6, 7, 8, 9, 0, 10)"
      ]
     },
     "execution_count": 56,
     "metadata": {},
     "output_type": "execute_result"
    }
   ],
   "source": [
    "func_arg(1,2,3,4,5,6,7,8,9,0,10) # Передадим 11 значений.\n",
    "\n",
    "# Как мы видим, в обоих случаях ошибка не возникнет."
   ]
  },
  {
   "cell_type": "code",
   "execution_count": 57,
   "id": "loose-aspect",
   "metadata": {},
   "outputs": [],
   "source": [
    "# Что будет, если уберём оператор \"*\"\n",
    "def func_arg(arg): \n",
    "    return arg"
   ]
  },
  {
   "cell_type": "code",
   "execution_count": 58,
   "id": "alleged-thesis",
   "metadata": {},
   "outputs": [
    {
     "ename": "TypeError",
     "evalue": "func_arg() takes 1 positional argument but 11 were given",
     "output_type": "error",
     "traceback": [
      "\u001b[1;31m---------------------------------------------------------------------------\u001b[0m",
      "\u001b[1;31mTypeError\u001b[0m                                 Traceback (most recent call last)",
      "\u001b[1;32m<ipython-input-58-ad3d2717b5f8>\u001b[0m in \u001b[0;36m<module>\u001b[1;34m\u001b[0m\n\u001b[1;32m----> 1\u001b[1;33m \u001b[0mfunc_arg\u001b[0m\u001b[1;33m(\u001b[0m\u001b[1;36m1\u001b[0m\u001b[1;33m,\u001b[0m\u001b[1;36m2\u001b[0m\u001b[1;33m,\u001b[0m\u001b[1;36m3\u001b[0m\u001b[1;33m,\u001b[0m\u001b[1;36m4\u001b[0m\u001b[1;33m,\u001b[0m\u001b[1;36m5\u001b[0m\u001b[1;33m,\u001b[0m\u001b[1;36m6\u001b[0m\u001b[1;33m,\u001b[0m\u001b[1;36m7\u001b[0m\u001b[1;33m,\u001b[0m\u001b[1;36m8\u001b[0m\u001b[1;33m,\u001b[0m\u001b[1;36m9\u001b[0m\u001b[1;33m,\u001b[0m\u001b[1;36m0\u001b[0m\u001b[1;33m,\u001b[0m\u001b[1;36m10\u001b[0m\u001b[1;33m)\u001b[0m\u001b[1;33m\u001b[0m\u001b[1;33m\u001b[0m\u001b[0m\n\u001b[0m",
      "\u001b[1;31mTypeError\u001b[0m: func_arg() takes 1 positional argument but 11 were given"
     ]
    }
   ],
   "source": [
    "func_arg(1,2,3,4,5,6,7,8,9,0,10)"
   ]
  },
  {
   "cell_type": "code",
   "execution_count": 59,
   "id": "adopted-charge",
   "metadata": {},
   "outputs": [
    {
     "ename": "TypeError",
     "evalue": "func_arg() takes 1 positional argument but 3 were given",
     "output_type": "error",
     "traceback": [
      "\u001b[1;31m---------------------------------------------------------------------------\u001b[0m",
      "\u001b[1;31mTypeError\u001b[0m                                 Traceback (most recent call last)",
      "\u001b[1;32m<ipython-input-59-79a757b610e5>\u001b[0m in \u001b[0;36m<module>\u001b[1;34m\u001b[0m\n\u001b[1;32m----> 1\u001b[1;33m \u001b[0mfunc_arg\u001b[0m\u001b[1;33m(\u001b[0m\u001b[1;36m1\u001b[0m\u001b[1;33m,\u001b[0m\u001b[1;36m2\u001b[0m\u001b[1;33m,\u001b[0m\u001b[1;36m3\u001b[0m\u001b[1;33m)\u001b[0m\u001b[1;33m\u001b[0m\u001b[1;33m\u001b[0m\u001b[0m\n\u001b[0m",
      "\u001b[1;31mTypeError\u001b[0m: func_arg() takes 1 positional argument but 3 were given"
     ]
    }
   ],
   "source": [
    "func_arg(1,2,3)"
   ]
  },
  {
   "cell_type": "code",
   "execution_count": 60,
   "id": "premium-integral",
   "metadata": {},
   "outputs": [
    {
     "data": {
      "text/plain": [
       "1"
      ]
     },
     "execution_count": 60,
     "metadata": {},
     "output_type": "execute_result"
    }
   ],
   "source": [
    "func_arg(1) # Функция будет воспринимать только одно значение."
   ]
  },
  {
   "cell_type": "code",
   "execution_count": null,
   "id": "perfect-holiday",
   "metadata": {},
   "outputs": [],
   "source": [
    "# Давайте рассмотрим небольшой пример, когда  может пригодится описанный выше код."
   ]
  },
  {
   "cell_type": "code",
   "execution_count": 63,
   "id": "vital-studio",
   "metadata": {},
   "outputs": [],
   "source": [
    "# Давайте посчитаем сумму всех чисел, переданных в функцию.\n",
    "def sum_number(*arg):\n",
    "    \n",
    "    \"\"\"\n",
    "    Функция воспринимает на вход несколько значений и возвращает их сумму. \n",
    "    \n",
    "    \"\"\"\n",
    "    \n",
    "    sum_element = 0\n",
    "    for i in arg:\n",
    "        sum_element += i\n",
    "        \n",
    "    return sum_element"
   ]
  },
  {
   "cell_type": "code",
   "execution_count": 64,
   "id": "labeled-citizenship",
   "metadata": {},
   "outputs": [
    {
     "data": {
      "text/plain": [
       "111"
      ]
     },
     "execution_count": 64,
     "metadata": {},
     "output_type": "execute_result"
    }
   ],
   "source": [
    "sum_number(2,3,4,5,2,1,4,3,5,6,2,3,4,1,24,3,35,4)"
   ]
  }
 ],
 "metadata": {
  "kernelspec": {
   "display_name": "Python 3",
   "language": "python",
   "name": "python3"
  },
  "language_info": {
   "codemirror_mode": {
    "name": "ipython",
    "version": 3
   },
   "file_extension": ".py",
   "mimetype": "text/x-python",
   "name": "python",
   "nbconvert_exporter": "python",
   "pygments_lexer": "ipython3",
   "version": "3.7.3"
  },
  "toc": {
   "base_numbering": 1,
   "nav_menu": {},
   "number_sections": true,
   "sideBar": true,
   "skip_h1_title": false,
   "title_cell": "Table of Contents",
   "title_sidebar": "Contents",
   "toc_cell": false,
   "toc_position": {
    "height": "calc(100% - 180px)",
    "left": "10px",
    "top": "150px",
    "width": "165px"
   },
   "toc_section_display": true,
   "toc_window_display": true
  }
 },
 "nbformat": 4,
 "nbformat_minor": 5
}
