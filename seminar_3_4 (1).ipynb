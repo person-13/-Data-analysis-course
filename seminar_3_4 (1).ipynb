{
 "cells": [
  {
   "cell_type": "markdown",
   "id": "intelligent-compensation",
   "metadata": {},
   "source": [
    "<font size=+2 color=\"indigo\"><center><b>Семинар 3 - 4</b></center></font>"
   ]
  },
  {
   "cell_type": "markdown",
   "id": "billion-radio",
   "metadata": {},
   "source": [
    "<font size=+2 color=\"indigo\"><center><b> Строки и Списки</b></center></font>"
   ]
  },
  {
   "cell_type": "markdown",
   "id": "ignored-developer",
   "metadata": {},
   "source": [
    "<a id=\"top\"></a>\n",
    "\n",
    "<div class=\"list-group\" id=\"list-tab\" role=\"tablist\">\n",
    "<big class=\"list-group-item list-group-item-action active\" data-toggle=\"list\"  role=\"tab\" aria-controls=\"home\"> СТРУКТУРА СЕМИНАРА</big>\n",
    "\n",
    "* [1. Строки](#1)\n",
    "\n",
    "\n",
    "*   * [1.1 Операции над строками](#1.1)\n",
    "\n",
    "\n",
    "*   * [1.2 Метод format()](#1.2)\n",
    "\n",
    "\n",
    "*   * [1.3 Метод isdigit(). Метод isalpha()](#1.3)\n",
    "\n",
    "\n",
    "*   * [1.4 Метод lower(). Метод upper()](#1.4)\n",
    "\n",
    "\n",
    "*   * [1.5. Метод split(). Метод replace()](#1.5)\n",
    "\n",
    "\n",
    "* [2. Списки](#2)\n",
    "\n",
    "\n",
    "*   * [2.1 Операции со списками](#2.1)\n",
    "\n",
    "\n",
    "*   * [2.2 Индекс](#2.2)\n",
    "\n",
    "\n",
    "*   * [2.3 Сложный индекс](#2.3)\n",
    "\n",
    "\n",
    "*   * [2.4 Поиск элемента в списке](#2.4)\n",
    "\n",
    "\n",
    "*   * [2.5. Проблема списков](#2.5)\n",
    "\n",
    "\n",
    "* [3. Простые условия](#3) "
   ]
  },
  {
   "cell_type": "markdown",
   "id": "dramatic-closer",
   "metadata": {},
   "source": [
    "<a id=\"1\"></a>\n",
    "    \n",
    "<font size=\"+2\" color=\"indigo\"><b>1. Строки</b></font><br>"
   ]
  },
  {
   "cell_type": "markdown",
   "id": "ignored-contributor",
   "metadata": {},
   "source": [
    "<a id=\"1.1\"></a>\n",
    "    \n",
    "<font size=\"+2\" color=\"indigo\"><b>1.1 Операции над строками</b></font><br>"
   ]
  },
  {
   "cell_type": "markdown",
   "id": "sixth-consequence",
   "metadata": {},
   "source": [
    "**Определение строки в Python**"
   ]
  },
  {
   "cell_type": "code",
   "execution_count": 30,
   "id": "bored-quantity",
   "metadata": {},
   "outputs": [
    {
     "ename": "SyntaxError",
     "evalue": "invalid syntax (<ipython-input-30-20361f560e8d>, line 1)",
     "output_type": "error",
     "traceback": [
      "\u001b[1;36m  File \u001b[1;32m\"<ipython-input-30-20361f560e8d>\"\u001b[1;36m, line \u001b[1;32m1\u001b[0m\n\u001b[1;33m    Иванов Иван Иванович\u001b[0m\n\u001b[1;37m              ^\u001b[0m\n\u001b[1;31mSyntaxError\u001b[0m\u001b[1;31m:\u001b[0m invalid syntax\n"
     ]
    }
   ],
   "source": [
    "Иванов Иван Иванович\n",
    "\n",
    "# При выполнении данной ячейки произойдёт ошибка,\n",
    "# потому что Python думает, что мы создаём переменную, но при этом\n",
    "# ничего в неё не присваиваем.\n",
    "\n",
    "# Однако мы решили создать строку, а не переменную, поэтому чтобы Python понял, что\n",
    "# мы создаем строку, необходимо поставить кавычки."
   ]
  },
  {
   "cell_type": "code",
   "execution_count": 31,
   "id": "flying-smoke",
   "metadata": {},
   "outputs": [
    {
     "data": {
      "text/plain": [
       "'Иванов Иван Иванович'"
      ]
     },
     "execution_count": 31,
     "metadata": {},
     "output_type": "execute_result"
    }
   ],
   "source": [
    "\"Иванов Иван Иванович\" # Двойные кавычки."
   ]
  },
  {
   "cell_type": "code",
   "execution_count": 32,
   "id": "tender-palmer",
   "metadata": {},
   "outputs": [
    {
     "data": {
      "text/plain": [
       "'Иванов Иван Иванович'"
      ]
     },
     "execution_count": 32,
     "metadata": {},
     "output_type": "execute_result"
    }
   ],
   "source": [
    "'Иванов Иван Иванович' # Можно и одинарные ставить, для Python нет разницы."
   ]
  },
  {
   "cell_type": "code",
   "execution_count": 33,
   "id": "extraordinary-brief",
   "metadata": {},
   "outputs": [
    {
     "ename": "SyntaxError",
     "evalue": "invalid syntax (<ipython-input-33-7cf09f5edce6>, line 6)",
     "output_type": "error",
     "traceback": [
      "\u001b[1;36m  File \u001b[1;32m\"<ipython-input-33-7cf09f5edce6>\"\u001b[1;36m, line \u001b[1;32m6\u001b[0m\n\u001b[1;33m    \"\"Нет, не видел я тут никого\", - сказал Санька.\"\u001b[0m\n\u001b[1;37m        ^\u001b[0m\n\u001b[1;31mSyntaxError\u001b[0m\u001b[1;31m:\u001b[0m invalid syntax\n"
     ]
    }
   ],
   "source": [
    "# Однако если внутри строки есть прямая речь, то необходимо, чтобы \n",
    "# кавычки внутри строки, определяющие прямую речь, отличались от \n",
    "# основных кавычек\n",
    "# Рассмотрим следующее предложение, содержащее прямую речь  \n",
    "# \"Нет, не видел я тут никого\", - сказал Санька.\n",
    "\"\"Нет, не видел я тут никого\", - сказал Санька.\" # И основные кавычки, и \n",
    "                                                 # кавычки, определяющие прямую речь - двойные,\n",
    "                                                 # поэтому возникнет ошибка."
   ]
  },
  {
   "cell_type": "code",
   "execution_count": 34,
   "id": "organizational-future",
   "metadata": {},
   "outputs": [
    {
     "data": {
      "text/plain": [
       "'\"Нет, не видел я тут никого\", - сказал Санька.'"
      ]
     },
     "execution_count": 34,
     "metadata": {},
     "output_type": "execute_result"
    }
   ],
   "source": [
    "'\"Нет, не видел я тут никого\", - сказал Санька.' # В данном случае кавычки различаются:\n",
    "                                                 #сначала идут одинарные кавычки,\n",
    "                                                 #потом двойные."
   ]
  },
  {
   "cell_type": "code",
   "execution_count": 36,
   "id": "generic-teddy",
   "metadata": {},
   "outputs": [
    {
     "data": {
      "text/plain": [
       "\"'Нет, не видел я тут никого', - сказал Санька.\""
      ]
     },
     "execution_count": 36,
     "metadata": {},
     "output_type": "execute_result"
    }
   ],
   "source": [
    "\"'Нет, не видел я тут никого', - сказал Санька.\" # Сначала идут двойные кавычки,\n",
    "                                                 # потом одинарные (определяют прямую речь)."
   ]
  },
  {
   "cell_type": "code",
   "execution_count": 60,
   "id": "alleged-copying",
   "metadata": {},
   "outputs": [
    {
     "data": {
      "text/plain": [
       "str"
      ]
     },
     "execution_count": 60,
     "metadata": {},
     "output_type": "execute_result"
    }
   ],
   "source": [
    "type('Иванов Иван Иванович') # Строка имеет свой тип - str"
   ]
  },
  {
   "cell_type": "code",
   "execution_count": 61,
   "id": "happy-orbit",
   "metadata": {},
   "outputs": [
    {
     "data": {
      "text/plain": [
       "(int, float, str)"
      ]
     },
     "execution_count": 61,
     "metadata": {},
     "output_type": "execute_result"
    }
   ],
   "source": [
    "type(5), type(5.0), type(\"5\") # Одно и то же число, но записано по-разному,\n",
    "                              # поэтому имеет свой тип."
   ]
  },
  {
   "cell_type": "markdown",
   "id": "sensitive-productivity",
   "metadata": {},
   "source": [
    "**Арифметические операции со строками**"
   ]
  },
  {
   "cell_type": "markdown",
   "id": "little-thriller",
   "metadata": {},
   "source": [
    "Сложение"
   ]
  },
  {
   "cell_type": "code",
   "execution_count": 40,
   "id": "brazilian-savings",
   "metadata": {},
   "outputs": [
    {
     "data": {
      "text/plain": [
       "'Иванов Иван Иванович,aдрес: г. Москва'"
      ]
     },
     "execution_count": 40,
     "metadata": {},
     "output_type": "execute_result"
    }
   ],
   "source": [
    "'Иванов Иван Иванович,' + \"aдрес: г. Москва\" # Операция сложения.\n",
    "\n",
    "# Мы видим, что сложение произошло неккоректно - текст получился нечитаемым."
   ]
  },
  {
   "cell_type": "code",
   "execution_count": 41,
   "id": "constant-dining",
   "metadata": {},
   "outputs": [
    {
     "data": {
      "text/plain": [
       "'Иванов Иван Иванович, aдрес: г. Москва'"
      ]
     },
     "execution_count": 41,
     "metadata": {},
     "output_type": "execute_result"
    }
   ],
   "source": [
    "'Иванов Иван Иванович, ' + \"aдрес: г. Москва\" # Поставили пробел после слов\n",
    "                                             # Иванов Иван Иванович.\n",
    "# Мы видим, что строка отобразилась корректно"
   ]
  },
  {
   "cell_type": "code",
   "execution_count": 43,
   "id": "flying-elevation",
   "metadata": {},
   "outputs": [
    {
     "data": {
      "text/plain": [
       "'Иванов Иван Иванович, aдрес: г. Москва'"
      ]
     },
     "execution_count": 43,
     "metadata": {},
     "output_type": "execute_result"
    }
   ],
   "source": [
    "'Иванов Иван Иванович,' + \" \" + \"aдрес: г. Москва\" # Можно просто прибавить пробел"
   ]
  },
  {
   "cell_type": "markdown",
   "id": "variable-toyota",
   "metadata": {},
   "source": [
    "Вычитание"
   ]
  },
  {
   "cell_type": "code",
   "execution_count": 45,
   "id": "ambient-intensity",
   "metadata": {},
   "outputs": [
    {
     "ename": "TypeError",
     "evalue": "unsupported operand type(s) for -: 'str' and 'str'",
     "output_type": "error",
     "traceback": [
      "\u001b[1;31m---------------------------------------------------------------------------\u001b[0m",
      "\u001b[1;31mTypeError\u001b[0m                                 Traceback (most recent call last)",
      "\u001b[1;32m<ipython-input-45-2009d846db59>\u001b[0m in \u001b[0;36m<module>\u001b[1;34m\u001b[0m\n\u001b[1;32m----> 1\u001b[1;33m \u001b[1;34m'Иванов Иван Иванович,'\u001b[0m \u001b[1;33m-\u001b[0m \u001b[1;34m\"aдрес: г. Москва\"\u001b[0m\u001b[1;33m\u001b[0m\u001b[1;33m\u001b[0m\u001b[0m\n\u001b[0m",
      "\u001b[1;31mTypeError\u001b[0m: unsupported operand type(s) for -: 'str' and 'str'"
     ]
    }
   ],
   "source": [
    "'Иванов Иван Иванович,' - \"aдрес: г. Москва\" # Вычитание выполнять нельзя."
   ]
  },
  {
   "cell_type": "code",
   "execution_count": 46,
   "id": "imposed-penguin",
   "metadata": {},
   "outputs": [
    {
     "ename": "TypeError",
     "evalue": "can't multiply sequence by non-int of type 'str'",
     "output_type": "error",
     "traceback": [
      "\u001b[1;31m---------------------------------------------------------------------------\u001b[0m",
      "\u001b[1;31mTypeError\u001b[0m                                 Traceback (most recent call last)",
      "\u001b[1;32m<ipython-input-46-1cdc47604b77>\u001b[0m in \u001b[0;36m<module>\u001b[1;34m\u001b[0m\n\u001b[1;32m----> 1\u001b[1;33m \u001b[1;34m'Иванов Иван Иванович,'\u001b[0m \u001b[1;33m*\u001b[0m \u001b[1;34m\"aдрес: г. Москва\"\u001b[0m \u001b[1;31m# Вычитание выполнять нельзя\u001b[0m\u001b[1;33m\u001b[0m\u001b[1;33m\u001b[0m\u001b[0m\n\u001b[0m",
      "\u001b[1;31mTypeError\u001b[0m: can't multiply sequence by non-int of type 'str'"
     ]
    }
   ],
   "source": [
    "'Иванов Иван Иванович,' * \"aдрес: г. Москва\" # Умножение также нельзя выполнить."
   ]
  },
  {
   "cell_type": "code",
   "execution_count": 48,
   "id": "hundred-container",
   "metadata": {},
   "outputs": [
    {
     "data": {
      "text/plain": [
       "'Иванов Иван Иванович Иванов Иван Иванович Иванов Иван Иванович '"
      ]
     },
     "execution_count": 48,
     "metadata": {},
     "output_type": "execute_result"
    }
   ],
   "source": [
    "'Иванов Иван Иванович '*3 # Однако можно умножить строку на число, при \n",
    "                          # этом строка просто повторится (в данном случае три раза)."
   ]
  },
  {
   "cell_type": "code",
   "execution_count": 49,
   "id": "strong-relation",
   "metadata": {},
   "outputs": [
    {
     "ename": "TypeError",
     "evalue": "unsupported operand type(s) for ** or pow(): 'str' and 'int'",
     "output_type": "error",
     "traceback": [
      "\u001b[1;31m---------------------------------------------------------------------------\u001b[0m",
      "\u001b[1;31mTypeError\u001b[0m                                 Traceback (most recent call last)",
      "\u001b[1;32m<ipython-input-49-050408f1e752>\u001b[0m in \u001b[0;36m<module>\u001b[1;34m\u001b[0m\n\u001b[1;32m----> 1\u001b[1;33m \u001b[1;34m'Иванов Иван Иванович '\u001b[0m\u001b[1;33m**\u001b[0m\u001b[1;36m3\u001b[0m\u001b[1;33m\u001b[0m\u001b[1;33m\u001b[0m\u001b[0m\n\u001b[0m",
      "\u001b[1;31mTypeError\u001b[0m: unsupported operand type(s) for ** or pow(): 'str' and 'int'"
     ]
    }
   ],
   "source": [
    "'Иванов Иван Иванович '**3 # В степень возводить нельзя."
   ]
  },
  {
   "cell_type": "markdown",
   "id": "heated-drive",
   "metadata": {},
   "source": [
    "**Сравнение строк**"
   ]
  },
  {
   "cell_type": "code",
   "execution_count": 52,
   "id": "distributed-drilling",
   "metadata": {},
   "outputs": [
    {
     "data": {
      "text/plain": [
       "False"
      ]
     },
     "execution_count": 52,
     "metadata": {},
     "output_type": "execute_result"
    }
   ],
   "source": [
    "\"а\" > \"б\""
   ]
  },
  {
   "cell_type": "code",
   "execution_count": 54,
   "id": "breeding-princeton",
   "metadata": {},
   "outputs": [
    {
     "data": {
      "text/plain": [
       "True"
      ]
     },
     "execution_count": 54,
     "metadata": {},
     "output_type": "execute_result"
    }
   ],
   "source": [
    "\"а\" < \"б\"\n",
    " \n",
    "# Буква \"б\" по алфавиту дальше буквы \"а\" - следовательно, \"б\" > \"а\".  "
   ]
  },
  {
   "cell_type": "code",
   "execution_count": 56,
   "id": "residential-perception",
   "metadata": {},
   "outputs": [
    {
     "data": {
      "text/plain": [
       "False"
      ]
     },
     "execution_count": 56,
     "metadata": {},
     "output_type": "execute_result"
    }
   ],
   "source": [
    "\"Иван\" == \"Иванов\""
   ]
  },
  {
   "cell_type": "code",
   "execution_count": 57,
   "id": "african-assist",
   "metadata": {},
   "outputs": [
    {
     "data": {
      "text/plain": [
       "True"
      ]
     },
     "execution_count": 57,
     "metadata": {},
     "output_type": "execute_result"
    }
   ],
   "source": [
    "\"Иван\" == \"Иван\" # Чтобы строки были равны, символы в одной строке должны \n",
    "                 # быть равны символам в другий строке."
   ]
  },
  {
   "cell_type": "code",
   "execution_count": 58,
   "id": "neither-pregnancy",
   "metadata": {},
   "outputs": [
    {
     "data": {
      "text/plain": [
       "False"
      ]
     },
     "execution_count": 58,
     "metadata": {},
     "output_type": "execute_result"
    }
   ],
   "source": [
    "\"Иван \" == \"Иван\" # Python учитывает пробел как символ.\n",
    "                  # Всегда необходимо обращать внимание на пробелы."
   ]
  },
  {
   "cell_type": "code",
   "execution_count": 59,
   "id": "abandoned-recipe",
   "metadata": {},
   "outputs": [
    {
     "data": {
      "text/plain": [
       "True"
      ]
     },
     "execution_count": 59,
     "metadata": {},
     "output_type": "execute_result"
    }
   ],
   "source": [
    "\"Иванов\" > \"Иван\" # Если одна строка содержится в другой (в данном случае\n",
    "                  # символы \"Иван\" содержатся в левой части), то та строка\n",
    "                  # больше, которая длиннее. "
   ]
  },
  {
   "cell_type": "markdown",
   "id": "seeing-hearing",
   "metadata": {},
   "source": [
    "**Длина строки**"
   ]
  },
  {
   "cell_type": "code",
   "execution_count": 67,
   "id": "dense-closure",
   "metadata": {},
   "outputs": [
    {
     "name": "stdout",
     "output_type": "stream",
     "text": [
      "Help on built-in function len in module builtins:\n",
      "\n",
      "len(obj, /)\n",
      "    Return the number of items in a container.\n",
      "\n"
     ]
    }
   ],
   "source": [
    "# Длина строки определяется с помощью специальной функции len().\n",
    "\n",
    "help(len) # посмотрим на данную функцию с помощью команды help()."
   ]
  },
  {
   "cell_type": "code",
   "execution_count": 68,
   "id": "short-onion",
   "metadata": {},
   "outputs": [
    {
     "data": {
      "text/plain": [
       "6"
      ]
     },
     "execution_count": 68,
     "metadata": {},
     "output_type": "execute_result"
    }
   ],
   "source": [
    "len(\"Иванов\") # В слове \"Иванов\" 6 букв - следовательно, длина строки - 6."
   ]
  },
  {
   "cell_type": "code",
   "execution_count": 69,
   "id": "demographic-auckland",
   "metadata": {},
   "outputs": [
    {
     "data": {
      "text/plain": [
       "9"
      ]
     },
     "execution_count": 69,
     "metadata": {},
     "output_type": "execute_result"
    }
   ],
   "source": [
    "len(\"Иванов   \") # Пробелы считаются за символы, поэтому длина увеличилась"
   ]
  },
  {
   "cell_type": "code",
   "execution_count": 71,
   "id": "adverse-zambia",
   "metadata": {},
   "outputs": [
    {
     "data": {
      "text/plain": [
       "(11, 11)"
      ]
     },
     "execution_count": 71,
     "metadata": {},
     "output_type": "execute_result"
    }
   ],
   "source": [
    "word = \"Университет\"  # Переменным можно присваивать строки\n",
    "len(word), len(\"Университет\")"
   ]
  },
  {
   "cell_type": "markdown",
   "id": "biblical-enlargement",
   "metadata": {},
   "source": [
    "**Индекс строки**"
   ]
  },
  {
   "cell_type": "code",
   "execution_count": 74,
   "id": "outer-annual",
   "metadata": {},
   "outputs": [
    {
     "data": {
      "text/plain": [
       "('И', 'в', 'а', 'н')"
      ]
     },
     "execution_count": 74,
     "metadata": {},
     "output_type": "execute_result"
    }
   ],
   "source": [
    "# Пример использования индекса покажем на слове \"Иван\".\n",
    "\"Иван\"[0]  # Индекс - это целое число, которое указывается в квадратных скобках.\n",
    "\n",
    "# До каждого элемента строки можно добраться с помощью индекса.\n",
    "\n",
    "\"Иван\"[0], \"Иван\"[1], \"Иван\"[2], \"Иван\"[3]\n",
    "\n",
    "#  0 1 2 3\n",
    "# \"И в а н\"    # Первая буква в слове \"Иван\" - И.\n",
    "               # Однако чтобы до неё добраться, пишем [0], а не [1].\n",
    "               # Это особенность Python - нумерация начинается с нуля, а не с единицы."
   ]
  },
  {
   "cell_type": "code",
   "execution_count": 75,
   "id": "medieval-hayes",
   "metadata": {},
   "outputs": [
    {
     "ename": "IndexError",
     "evalue": "string index out of range",
     "output_type": "error",
     "traceback": [
      "\u001b[1;31m---------------------------------------------------------------------------\u001b[0m",
      "\u001b[1;31mIndexError\u001b[0m                                Traceback (most recent call last)",
      "\u001b[1;32m<ipython-input-75-df21cab58863>\u001b[0m in \u001b[0;36m<module>\u001b[1;34m\u001b[0m\n\u001b[1;32m----> 1\u001b[1;33m \u001b[1;34m\"Иван\"\u001b[0m\u001b[1;33m[\u001b[0m\u001b[1;36m4\u001b[0m\u001b[1;33m]\u001b[0m\u001b[1;33m\u001b[0m\u001b[1;33m\u001b[0m\u001b[0m\n\u001b[0m",
      "\u001b[1;31mIndexError\u001b[0m: string index out of range"
     ]
    }
   ],
   "source": [
    "#  0 1 2 3\n",
    "# \"И в а н\"\n",
    "\n",
    "\"Иван\"[4] # Если выйдем за границы строки, то появится ошибка"
   ]
  },
  {
   "cell_type": "code",
   "execution_count": 79,
   "id": "contained-spirit",
   "metadata": {},
   "outputs": [
    {
     "name": "stdout",
     "output_type": "stream",
     "text": [
      "И в а н\n",
      "И в а н\n"
     ]
    }
   ],
   "source": [
    "#   0  1  2  3\n",
    "#  \"И  в  а  н\"\n",
    "#  -4 -3 -2 -1\n",
    "\n",
    "# Индексы бывают не только положительными, но и отрицательными. \n",
    "# Последний элемент строки всегда имеет индекс (-1), в данном случае это буква \"н\"\n",
    "\n",
    "\n",
    "print(\"Иван\"[-4], \"Иван\"[-3], \"Иван\"[-2], \"Иван\"[-1]) # Напечатает - И в а н\n",
    "print(\"Иван\"[0], \"Иван\"[1], \"Иван\"[2], \"Иван\"[3]) # Напечатает - И в а н"
   ]
  },
  {
   "cell_type": "code",
   "execution_count": 81,
   "id": "earlier-tennis",
   "metadata": {},
   "outputs": [
    {
     "data": {
      "text/plain": [
       "True"
      ]
     },
     "execution_count": 81,
     "metadata": {},
     "output_type": "execute_result"
    }
   ],
   "source": [
    "(\"Иван\"[-4], \"Иван\"[-3], \"Иван\"[-2], \"Иван\"[-1]) == (\"Иван\"[0], \"Иван\"[1], \"Иван\"[2], \"Иван\"[3])"
   ]
  },
  {
   "cell_type": "code",
   "execution_count": 136,
   "id": "adjacent-milwaukee",
   "metadata": {},
   "outputs": [
    {
     "ename": "TypeError",
     "evalue": "'str' object does not support item assignment",
     "output_type": "error",
     "traceback": [
      "\u001b[1;31m---------------------------------------------------------------------------\u001b[0m",
      "\u001b[1;31mTypeError\u001b[0m                                 Traceback (most recent call last)",
      "\u001b[1;32m<ipython-input-136-202cdb5fa38f>\u001b[0m in \u001b[0;36m<module>\u001b[1;34m\u001b[0m\n\u001b[0;32m      1\u001b[0m \u001b[1;31m# При этом в элемент доступный по индексу ничего присваивать нельзя.\u001b[0m\u001b[1;33m\u001b[0m\u001b[1;33m\u001b[0m\u001b[1;33m\u001b[0m\u001b[0m\n\u001b[1;32m----> 2\u001b[1;33m \u001b[1;34m\"Иван\"\u001b[0m\u001b[1;33m[\u001b[0m\u001b[1;36m0\u001b[0m\u001b[1;33m]\u001b[0m \u001b[1;33m=\u001b[0m \u001b[1;34m\"К\"\u001b[0m \u001b[1;31m# Хотели поменять буквы \"И\", на букву \"К\"\u001b[0m\u001b[1;33m\u001b[0m\u001b[1;33m\u001b[0m\u001b[0m\n\u001b[0m",
      "\u001b[1;31mTypeError\u001b[0m: 'str' object does not support item assignment"
     ]
    }
   ],
   "source": [
    "# При этом в элемент, доступный по индексу, ничего присваивать нельзя.\n",
    "\"Иван\"[0] = \"К\" # Хотели поменять букву \"И\" на букву \"К\""
   ]
  },
  {
   "cell_type": "markdown",
   "id": "mobile-central",
   "metadata": {},
   "source": [
    "<a id=\"1.2\"></a>\n",
    "    \n",
    "<font size=\"+2\" color=\"indigo\"><b>1.2 Метод format()</b></font><br>"
   ]
  },
  {
   "cell_type": "markdown",
   "id": "fewer-evening",
   "metadata": {},
   "source": [
    "Данный метод позволяет вставлять необходимые нам значения в строку."
   ]
  },
  {
   "cell_type": "code",
   "execution_count": 11,
   "id": "flexible-reminder",
   "metadata": {},
   "outputs": [
    {
     "data": {
      "text/plain": [
       "'Иван получил - 5, а Андрей - 3'"
      ]
     },
     "execution_count": 11,
     "metadata": {},
     "output_type": "execute_result"
    }
   ],
   "source": [
    "# В фигурные скобки подставляются значения аргументов методом format.\n",
    "\n",
    "\"Иван получил - {}, а Андрей - {}\".format(5,3)\n",
    "\n",
    "# первый аргумент вместо первой пары фигурных скобок, а второй - вместо второй."
   ]
  },
  {
   "cell_type": "code",
   "execution_count": 12,
   "id": "married-tomorrow",
   "metadata": {},
   "outputs": [
    {
     "data": {
      "text/plain": [
       "'Иван получил - 5, а Андрей - 3'"
      ]
     },
     "execution_count": 12,
     "metadata": {},
     "output_type": "execute_result"
    }
   ],
   "source": [
    "# Конечно, можно подставить любой объект - например, строку.\n",
    "\n",
    "\"{} получил - 5, а {} - 3\".format(\"Иван\", \"Андрей\")"
   ]
  },
  {
   "cell_type": "code",
   "execution_count": 14,
   "id": "olympic-peace",
   "metadata": {},
   "outputs": [
    {
     "data": {
      "text/plain": [
       "'Андрей получил - 5, а Иван - 3'"
      ]
     },
     "execution_count": 14,
     "metadata": {},
     "output_type": "execute_result"
    }
   ],
   "source": [
    "# Можно указать порядковый номер аргумента в фигурных скобоках явно.\n",
    "\n",
    "\"{1} получил - 5, а {0} - 3\".format(\"Иван\", \"Андрей\")\n",
    "\n",
    " # Позволяет менять порядок вывода аргументов."
   ]
  },
  {
   "cell_type": "code",
   "execution_count": 15,
   "id": "noble-display",
   "metadata": {},
   "outputs": [
    {
     "data": {
      "text/plain": [
       "'Иван получил - 5 и Антон - 5, но Андрей получил - 3'"
      ]
     },
     "execution_count": 15,
     "metadata": {},
     "output_type": "execute_result"
    }
   ],
   "source": [
    "# Номер в фигурных скобрах можно повторять.\n",
    "\"Иван получил - {0} и Антон - {0}, но Андрей получил - {1}\".format(5,3)"
   ]
  },
  {
   "cell_type": "code",
   "execution_count": 16,
   "id": "difficult-conviction",
   "metadata": {},
   "outputs": [
    {
     "data": {
      "text/plain": [
       "'Иван получил - 5 и Антон - 5, но Андрей получил - 3'"
      ]
     },
     "execution_count": 16,
     "metadata": {},
     "output_type": "execute_result"
    }
   ],
   "source": [
    "# Есть и более прдвинутый подход, где вместо номера указываем именной аргумент.\n",
    "# Он подставляется автоматически в строке,\n",
    "\"Иван получил - {a} и Антон - {a}, но Андрей получил - {b}\".format(a = 5, b = 3) # т.е. там, где она заключена в фигурные скобки."
   ]
  },
  {
   "cell_type": "code",
   "execution_count": 17,
   "id": "united-verse",
   "metadata": {},
   "outputs": [
    {
     "ename": "KeyError",
     "evalue": "'a'",
     "output_type": "error",
     "traceback": [
      "\u001b[1;31m---------------------------------------------------------------------------\u001b[0m",
      "\u001b[1;31mKeyError\u001b[0m                                  Traceback (most recent call last)",
      "\u001b[1;32m<ipython-input-17-409bfae3c33f>\u001b[0m in \u001b[0;36m<module>\u001b[1;34m\u001b[0m\n\u001b[0;32m      1\u001b[0m \u001b[0ma\u001b[0m \u001b[1;33m=\u001b[0m \u001b[1;36m2\u001b[0m\u001b[1;33m\u001b[0m\u001b[1;33m\u001b[0m\u001b[0m\n\u001b[0;32m      2\u001b[0m \u001b[0mb\u001b[0m \u001b[1;33m=\u001b[0m \u001b[1;36m4\u001b[0m\u001b[1;33m\u001b[0m\u001b[1;33m\u001b[0m\u001b[0m\n\u001b[1;32m----> 3\u001b[1;33m \u001b[1;34m\"Иван получил - {a} и Антон - {a}, но Андрей получил - {b}\"\u001b[0m\u001b[1;33m.\u001b[0m\u001b[0mformat\u001b[0m\u001b[1;33m(\u001b[0m\u001b[1;33m)\u001b[0m \u001b[1;31m# Имя a должно быть в format.\u001b[0m\u001b[1;33m\u001b[0m\u001b[1;33m\u001b[0m\u001b[0m\n\u001b[0m",
      "\u001b[1;31mKeyError\u001b[0m: 'a'"
     ]
    }
   ],
   "source": [
    "a = 2\n",
    "b = 4\n",
    "\"Иван получил - {a} и Антон - {a}, но Андрей получил - {b}\".format() # Так делать нельзя."
   ]
  },
  {
   "cell_type": "code",
   "execution_count": 18,
   "id": "passing-transport",
   "metadata": {},
   "outputs": [
    {
     "data": {
      "text/plain": [
       "'Иван получил - 2 и Антон - 2, но Андрей получил - 4'"
      ]
     },
     "execution_count": 18,
     "metadata": {},
     "output_type": "execute_result"
    }
   ],
   "source": [
    "a = 2\n",
    "b = 4\n",
    "f\"Иван получил - {a} и Антон - {a}, но Андрей получил - {b}\" \n",
    "\n",
    "# Если хотим использовать переменные, то вместо \"формат\" пишем вначале строки букву \"f\"."
   ]
  },
  {
   "cell_type": "markdown",
   "id": "satisfactory-beach",
   "metadata": {},
   "source": [
    "<a id=\"1.3\"></a>\n",
    "    \n",
    "<font size=\"+2\" color=\"indigo\"><b>1.3. Метод isdigit(). Метод isalpha()</b></font><br>"
   ]
  },
  {
   "cell_type": "markdown",
   "id": "lonely-technology",
   "metadata": {},
   "source": [
    "**isdigit()**"
   ]
  },
  {
   "cell_type": "markdown",
   "id": "differential-romania",
   "metadata": {},
   "source": [
    "Данный метод позволяет определить, находятся ли в строке кроме чисел любые другие симыволы.\n",
    "\n",
    "Если в строке только числа, то возвращаается True.\n",
    "\n",
    "Если в строке есть ещё символы кроме чисел, то возвращается False."
   ]
  },
  {
   "cell_type": "code",
   "execution_count": 91,
   "id": "standing-hunter",
   "metadata": {},
   "outputs": [
    {
     "data": {
      "text/plain": [
       "True"
      ]
     },
     "execution_count": 91,
     "metadata": {},
     "output_type": "execute_result"
    }
   ],
   "source": [
    "\"0123456789\".isdigit() # В строке присутствуют только числа."
   ]
  },
  {
   "cell_type": "code",
   "execution_count": 92,
   "id": "innovative-alert",
   "metadata": {},
   "outputs": [
    {
     "data": {
      "text/plain": [
       "False"
      ]
     },
     "execution_count": 92,
     "metadata": {},
     "output_type": "execute_result"
    }
   ],
   "source": [
    "\"0,123456789\".isdigit() # Появилась запятая."
   ]
  },
  {
   "cell_type": "code",
   "execution_count": 93,
   "id": "scheduled-proceeding",
   "metadata": {},
   "outputs": [
    {
     "data": {
      "text/plain": [
       "False"
      ]
     },
     "execution_count": 93,
     "metadata": {},
     "output_type": "execute_result"
    }
   ],
   "source": [
    "\"0123456789ЧИСЛО\".isdigit() # Появились буквы"
   ]
  },
  {
   "cell_type": "code",
   "execution_count": 94,
   "id": "thirty-thermal",
   "metadata": {},
   "outputs": [
    {
     "data": {
      "text/plain": [
       "False"
      ]
     },
     "execution_count": 94,
     "metadata": {},
     "output_type": "execute_result"
    }
   ],
   "source": [
    "\"0123456789 \".isdigit() # Появился пробел - тоже символ"
   ]
  },
  {
   "cell_type": "markdown",
   "id": "banned-cancellation",
   "metadata": {},
   "source": [
    "**isalpha()**"
   ]
  },
  {
   "cell_type": "markdown",
   "id": "vertical-floor",
   "metadata": {},
   "source": [
    "Данный метод позволяет определить, находятся ли в строке кроме букв любые другие симыволы.\n",
    "\n",
    "Если в строке только буквы, то возвращаается True.\n",
    "\n",
    "Если в строке есть ещё символы кроме букв, то возвращается False."
   ]
  },
  {
   "cell_type": "code",
   "execution_count": 98,
   "id": "sufficient-antigua",
   "metadata": {},
   "outputs": [
    {
     "data": {
      "text/plain": [
       "True"
      ]
     },
     "execution_count": 98,
     "metadata": {},
     "output_type": "execute_result"
    }
   ],
   "source": [
    "\"ЧИСЛО\".isalpha() # В строке присутствуют только буквы."
   ]
  },
  {
   "cell_type": "code",
   "execution_count": 99,
   "id": "international-indian",
   "metadata": {},
   "outputs": [
    {
     "data": {
      "text/plain": [
       "False"
      ]
     },
     "execution_count": 99,
     "metadata": {},
     "output_type": "execute_result"
    }
   ],
   "source": [
    "\"0123456789ЧИСЛО\".isalpha() # Появились числа"
   ]
  },
  {
   "cell_type": "code",
   "execution_count": 100,
   "id": "metropolitan-yield",
   "metadata": {},
   "outputs": [
    {
     "data": {
      "text/plain": [
       "False"
      ]
     },
     "execution_count": 100,
     "metadata": {},
     "output_type": "execute_result"
    }
   ],
   "source": [
    "\"ЧИСЛО \".isalpha() # Появился пробел - тоже символ"
   ]
  },
  {
   "cell_type": "markdown",
   "id": "featured-duplicate",
   "metadata": {},
   "source": [
    "<a id=\"1.4\"></a>\n",
    "    \n",
    "<font size=\"+2\" color=\"indigo\"><b>1.4. Метод lower(). Метод upper()</b></font><br>"
   ]
  },
  {
   "cell_type": "markdown",
   "id": "literary-newfoundland",
   "metadata": {},
   "source": [
    "**lower()**"
   ]
  },
  {
   "cell_type": "markdown",
   "id": "coastal-nowhere",
   "metadata": {},
   "source": [
    "Данный метод переводит буквы из верхнего регистра в нижний."
   ]
  },
  {
   "cell_type": "code",
   "execution_count": 102,
   "id": "failing-humanity",
   "metadata": {},
   "outputs": [
    {
     "data": {
      "text/plain": [
       "False"
      ]
     },
     "execution_count": 102,
     "metadata": {},
     "output_type": "execute_result"
    }
   ],
   "source": [
    "\"Строка\" == \"строка\" # Для Python это два разных слова."
   ]
  },
  {
   "cell_type": "code",
   "execution_count": 105,
   "id": "typical-iceland",
   "metadata": {},
   "outputs": [
    {
     "data": {
      "text/plain": [
       "True"
      ]
     },
     "execution_count": 105,
     "metadata": {},
     "output_type": "execute_result"
    }
   ],
   "source": [
    "# При обработке текста первым делом все буквы в тексте переводятся в нижний регистр\n",
    "\n",
    "\"Строка\".lower() == \"строка\" "
   ]
  },
  {
   "cell_type": "code",
   "execution_count": 104,
   "id": "consolidated-vision",
   "metadata": {},
   "outputs": [
    {
     "data": {
      "text/plain": [
       "'строка'"
      ]
     },
     "execution_count": 104,
     "metadata": {},
     "output_type": "execute_result"
    }
   ],
   "source": [
    "\"Строка\".lower()"
   ]
  },
  {
   "cell_type": "code",
   "execution_count": 107,
   "id": "going-soundtrack",
   "metadata": {},
   "outputs": [
    {
     "data": {
      "text/plain": [
       "'строка номер - 1000'"
      ]
     },
     "execution_count": 107,
     "metadata": {},
     "output_type": "execute_result"
    }
   ],
   "source": [
    "\"Строка НОМЕР - 1000\".lower() # Ещё один пример."
   ]
  },
  {
   "cell_type": "markdown",
   "id": "intimate-attribute",
   "metadata": {},
   "source": [
    "**upper()**"
   ]
  },
  {
   "cell_type": "markdown",
   "id": "constant-burke",
   "metadata": {},
   "source": [
    "Данный метод переводит буквы из нижнего регистра в верхний."
   ]
  },
  {
   "cell_type": "code",
   "execution_count": 108,
   "id": "bibliographic-january",
   "metadata": {},
   "outputs": [
    {
     "data": {
      "text/plain": [
       "'СТРОКА'"
      ]
     },
     "execution_count": 108,
     "metadata": {},
     "output_type": "execute_result"
    }
   ],
   "source": [
    "\"Строка\".upper()"
   ]
  },
  {
   "cell_type": "code",
   "execution_count": 109,
   "id": "younger-power",
   "metadata": {},
   "outputs": [
    {
     "data": {
      "text/plain": [
       "'СТРОКА НОМЕР - 1000'"
      ]
     },
     "execution_count": 109,
     "metadata": {},
     "output_type": "execute_result"
    }
   ],
   "source": [
    "\"Строка НОМЕР - 1000\".upper() # Ещё один пример."
   ]
  },
  {
   "cell_type": "code",
   "execution_count": 110,
   "id": "alternative-nickel",
   "metadata": {},
   "outputs": [
    {
     "data": {
      "text/plain": [
       "True"
      ]
     },
     "execution_count": 110,
     "metadata": {},
     "output_type": "execute_result"
    }
   ],
   "source": [
    "\"Строка\".upper() == 'СТРОКА'"
   ]
  },
  {
   "cell_type": "markdown",
   "id": "recreational-mandate",
   "metadata": {},
   "source": [
    "<a id=\"1.5\"></a>\n",
    "    \n",
    "<font size=\"+2\" color=\"indigo\"><b>1.5. Метод split(). Метод replace()</b></font><br>"
   ]
  },
  {
   "cell_type": "markdown",
   "id": "acceptable-genetics",
   "metadata": {},
   "source": [
    "**split()**"
   ]
  },
  {
   "cell_type": "markdown",
   "id": "grave-novel",
   "metadata": {},
   "source": [
    "Данный метод разбивает строку на набор символов (токенов)."
   ]
  },
  {
   "cell_type": "code",
   "execution_count": 113,
   "id": "radical-basic",
   "metadata": {},
   "outputs": [
    {
     "data": {
      "text/plain": [
       "['Иван', 'пошёл', 'гулять']"
      ]
     },
     "execution_count": 113,
     "metadata": {},
     "output_type": "execute_result"
    }
   ],
   "source": [
    "\"Иван пошёл гулять\".split() # По умолчанию разбивает по символу \"пробел\"."
   ]
  },
  {
   "cell_type": "code",
   "execution_count": 114,
   "id": "thirty-graduate",
   "metadata": {},
   "outputs": [
    {
     "data": {
      "text/plain": [
       "(['Иван', 'пошёл', 'гулять'], ['Иван', 'пошёл', 'гулять'])"
      ]
     },
     "execution_count": 114,
     "metadata": {},
     "output_type": "execute_result"
    }
   ],
   "source": [
    "\"Иван пошёл гулять\".split(), \"Иван пошёл гулять\".split(\" \")"
   ]
  },
  {
   "cell_type": "code",
   "execution_count": 115,
   "id": "nuclear-berkeley",
   "metadata": {},
   "outputs": [
    {
     "data": {
      "text/plain": [
       "True"
      ]
     },
     "execution_count": 115,
     "metadata": {},
     "output_type": "execute_result"
    }
   ],
   "source": [
    "\"Иван пошёл гулять\".split() == \"Иван пошёл гулять\".split(\" \")\n",
    "\n",
    "# разбивать строку по пробелам логичнее всего, но можно использовать и другие символы."
   ]
  },
  {
   "cell_type": "code",
   "execution_count": 116,
   "id": "connected-encounter",
   "metadata": {},
   "outputs": [
    {
     "data": {
      "text/plain": [
       "['Иван пошёл ', ' гулять']"
      ]
     },
     "execution_count": 116,
     "metadata": {},
     "output_type": "execute_result"
    }
   ],
   "source": [
    "\"Иван пошёл - гулять\".split(\"-\") # В данном случае строка разбилась на две части."
   ]
  },
  {
   "cell_type": "code",
   "execution_count": 118,
   "id": "crude-vertical",
   "metadata": {},
   "outputs": [
    {
     "data": {
      "text/plain": [
       "['Иван',\n",
       " '',\n",
       " '',\n",
       " '',\n",
       " '',\n",
       " '',\n",
       " 'пошёл',\n",
       " '-',\n",
       " '',\n",
       " '',\n",
       " '',\n",
       " '',\n",
       " '',\n",
       " '',\n",
       " '',\n",
       " 'гулять']"
      ]
     },
     "execution_count": 118,
     "metadata": {},
     "output_type": "execute_result"
    }
   ],
   "source": [
    "\"Иван      пошёл -        гулять\".split(\" \") # Ещё один пример, когда в строке несколько пробелов подряд."
   ]
  },
  {
   "cell_type": "code",
   "execution_count": 119,
   "id": "alleged-manitoba",
   "metadata": {},
   "outputs": [
    {
     "data": {
      "text/plain": [
       "['Иван п', 'шёл гулять']"
      ]
     },
     "execution_count": 119,
     "metadata": {},
     "output_type": "execute_result"
    }
   ],
   "source": [
    "\"Иван пошёл гулять\".split(\"о\") # Можно разбивать строку и по определенной букве.\n",
    "                               # При этом данная буква пропадает (то же самое происходит и с символом \"пробел\")."
   ]
  },
  {
   "cell_type": "code",
   "execution_count": 120,
   "id": "perceived-metabolism",
   "metadata": {},
   "outputs": [
    {
     "data": {
      "text/plain": [
       "['Иван пошёл гулять', ' но не один']"
      ]
     },
     "execution_count": 120,
     "metadata": {},
     "output_type": "execute_result"
    }
   ],
   "source": [
    "\"Иван пошёл гулять, но не один\".split(\",\") # Можно разбивать строку и по символу \"запятая\""
   ]
  },
  {
   "cell_type": "markdown",
   "id": "auburn-symbol",
   "metadata": {},
   "source": [
    "**replace()**"
   ]
  },
  {
   "cell_type": "markdown",
   "id": "changing-expansion",
   "metadata": {},
   "source": [
    "Данный метод позволяет заменить одни символы в строке на другие символы."
   ]
  },
  {
   "cell_type": "code",
   "execution_count": 130,
   "id": "disturbed-spread",
   "metadata": {},
   "outputs": [
    {
     "data": {
      "text/plain": [
       "'Маша получила пять'"
      ]
     },
     "execution_count": 130,
     "metadata": {},
     "output_type": "execute_result"
    }
   ],
   "source": [
    "\"Маша получила пять\" # У нас есть строка"
   ]
  },
  {
   "cell_type": "code",
   "execution_count": 131,
   "id": "environmental-eclipse",
   "metadata": {},
   "outputs": [
    {
     "data": {
      "text/plain": [
       "'Антон получила пять'"
      ]
     },
     "execution_count": 131,
     "metadata": {},
     "output_type": "execute_result"
    }
   ],
   "source": [
    "\"Маша получила пять\".replace(\"Маша\", \"Антон\") # в данном случае поменяет слово \"Маша\"\n",
    "                                              # на слово \"Антон\"."
   ]
  },
  {
   "cell_type": "code",
   "execution_count": 132,
   "id": "aging-assumption",
   "metadata": {},
   "outputs": [
    {
     "data": {
      "text/plain": [
       "'МашаАнтонполучилаАнтонпять'"
      ]
     },
     "execution_count": 132,
     "metadata": {},
     "output_type": "execute_result"
    }
   ],
   "source": [
    "\"Маша получила пять\".replace(\" \", \"Антон\") # Поменяем символ пробела на слово \"Антон\"."
   ]
  },
  {
   "cell_type": "code",
   "execution_count": 123,
   "id": "sensitive-alcohol",
   "metadata": {},
   "outputs": [
    {
     "data": {
      "text/plain": [
       "'Маша получила пять но не одна'"
      ]
     },
     "execution_count": 123,
     "metadata": {},
     "output_type": "execute_result"
    }
   ],
   "source": [
    "\"Маша, получила, пять, но, не одна\".replace(\",\", \"\") # Поменяем запятую на пустой символ.\n",
    "                                                     # Проще говоря, убираем символ запятой."
   ]
  },
  {
   "cell_type": "code",
   "execution_count": 133,
   "id": "animal-gazette",
   "metadata": {},
   "outputs": [
    {
     "data": {
      "text/plain": [
       "'Мш, получил, пять, но, не одн'"
      ]
     },
     "execution_count": 133,
     "metadata": {},
     "output_type": "execute_result"
    }
   ],
   "source": [
    "\"Маша, получила, пять, но, не одна\".replace(\"а\", \"\") # Поменяем букву на пустой символ."
   ]
  },
  {
   "cell_type": "code",
   "execution_count": 134,
   "id": "treated-cabin",
   "metadata": {},
   "outputs": [
    {
     "data": {
      "text/plain": [
       "'Маша получила пять'"
      ]
     },
     "execution_count": 134,
     "metadata": {},
     "output_type": "execute_result"
    }
   ],
   "source": [
    "\"Маша получила пять\".replace(\"Даша\", \"Антон\") # Если символов, которые мы хотим поменять, в строке нет,\n",
    "                                              # то строка не изменится. "
   ]
  },
  {
   "cell_type": "markdown",
   "id": "spiritual-toner",
   "metadata": {},
   "source": [
    "<a id=\"2\"></a>\n",
    "    \n",
    "<font size=\"+2\" color=\"indigo\"><b>2. Списки</b></font><br>"
   ]
  },
  {
   "cell_type": "markdown",
   "id": "cutting-samba",
   "metadata": {},
   "source": [
    "Списки помогают хранить большое количество данных в одном месте.\n",
    "\n",
    "Например, в какой то момент времени нам понадобились данные о курсе рубля за год. Курс рубля изменяется каждый день  - \n",
    "следовательно, у нас было бы как минимум 365 значений. Представьте, если бы для каждого значения мы бы создавали переменную - получилось бы 365 переменных, что было бы крайне неудобным и ресурсоемким процессом.    \n"
   ]
  },
  {
   "cell_type": "markdown",
   "id": "structural-prime",
   "metadata": {},
   "source": [
    "<a id=\"2.1\"></a>\n",
    "    \n",
    "<font size=\"+2\" color=\"indigo\"><b>2.1 Операции со списками</b></font><br>"
   ]
  },
  {
   "cell_type": "code",
   "execution_count": 10,
   "id": "centered-sheffield",
   "metadata": {},
   "outputs": [
    {
     "data": {
      "text/plain": [
       "[1, 2, 3, 4, 5, 6, 7, 8, 9]"
      ]
     },
     "execution_count": 10,
     "metadata": {},
     "output_type": "execute_result"
    }
   ],
   "source": [
    "[1,2,3,4,5,6,7,8,9] # Создание списка\n",
    "\n",
    "# Список создаётся с помощью квадратных скобок.\n",
    "# Элементы внутри квадратных скобок разделяются запятой. "
   ]
  },
  {
   "cell_type": "code",
   "execution_count": 9,
   "id": "designed-transsexual",
   "metadata": {},
   "outputs": [
    {
     "data": {
      "text/plain": [
       "[1, 2, 3, 4, 5, 6, 7, 8, 9]"
      ]
     },
     "execution_count": 9,
     "metadata": {},
     "output_type": "execute_result"
    }
   ],
   "source": [
    "checklist = [1,2,3,4,5,6,7,8,9] # Список можно присвоить в переменную.\n",
    "checklist"
   ]
  },
  {
   "cell_type": "code",
   "execution_count": 38,
   "id": "extended-acceptance",
   "metadata": {},
   "outputs": [
    {
     "name": "stdout",
     "output_type": "stream",
     "text": [
      "[1, 2, 3, 4, 5, 6, 7, 8, 9]\n"
     ]
    }
   ],
   "source": [
    "print(checklist) # Списки можно вывести на экран через функцию print."
   ]
  },
  {
   "cell_type": "code",
   "execution_count": 11,
   "id": "boolean-position",
   "metadata": {},
   "outputs": [
    {
     "data": {
      "text/plain": [
       "9"
      ]
     },
     "execution_count": 11,
     "metadata": {},
     "output_type": "execute_result"
    }
   ],
   "source": [
    "len(checklist) # Таким образом, можно определить длину списка.\n",
    "               # Длина зависит от количества элементов, содержащихся в списке."
   ]
  },
  {
   "cell_type": "code",
   "execution_count": 14,
   "id": "vulnerable-directory",
   "metadata": {},
   "outputs": [
    {
     "data": {
      "text/plain": [
       "list"
      ]
     },
     "execution_count": 14,
     "metadata": {},
     "output_type": "execute_result"
    }
   ],
   "source": [
    "type(checklist) # Список имеет свой собственный тип - list"
   ]
  },
  {
   "cell_type": "code",
   "execution_count": 16,
   "id": "velvet-minutes",
   "metadata": {},
   "outputs": [
    {
     "data": {
      "text/plain": [
       "(int, float, str, list)"
      ]
     },
     "execution_count": 16,
     "metadata": {},
     "output_type": "execute_result"
    }
   ],
   "source": [
    "type(5), type(5.0), type(\"5\"), type(checklist)"
   ]
  },
  {
   "cell_type": "code",
   "execution_count": 34,
   "id": "portable-tyler",
   "metadata": {},
   "outputs": [
    {
     "data": {
      "text/plain": [
       "[1, 2, 3, 4, 'Иван', 5, 6, 7, 'Иванов']"
      ]
     },
     "execution_count": 34,
     "metadata": {},
     "output_type": "execute_result"
    }
   ],
   "source": [
    "# Список может содержать не только числа, но и строки, а иногда и другие списки. \n",
    "[1,2,3,4, \"Иван\", 5,6,7, \"Иванов\"]"
   ]
  },
  {
   "cell_type": "code",
   "execution_count": 33,
   "id": "false-field",
   "metadata": {},
   "outputs": [
    {
     "data": {
      "text/plain": [
       "[1,\n",
       " 2,\n",
       " 3,\n",
       " 4,\n",
       " 'Иван',\n",
       " 5,\n",
       " 6,\n",
       " 7,\n",
       " 'Иванов',\n",
       " [1, 2, 3, 4, 'Иван', 5, 6, 7, 'Иванов']]"
      ]
     },
     "execution_count": 33,
     "metadata": {},
     "output_type": "execute_result"
    }
   ],
   "source": [
    "[1,2,3,4, \"Иван\", 5,6,7, \"Иванов\",[1,2,3,4, \"Иван\", 5,6,7, \"Иванов\"]] # Список внутри списка."
   ]
  },
  {
   "cell_type": "markdown",
   "id": "wired-coast",
   "metadata": {},
   "source": [
    "<a id=\"2.2\"></a>\n",
    "    \n",
    "<font size=\"+2\" color=\"indigo\"><b>2.2 Индекс</b></font><br>"
   ]
  },
  {
   "cell_type": "code",
   "execution_count": 35,
   "id": "geological-surface",
   "metadata": {},
   "outputs": [],
   "source": [
    "checklist = [1,2,3,4,5,6,7,8,9] # Возьмём наш список"
   ]
  },
  {
   "cell_type": "code",
   "execution_count": 39,
   "id": "outer-hartford",
   "metadata": {},
   "outputs": [
    {
     "data": {
      "text/plain": [
       "1"
      ]
     },
     "execution_count": 39,
     "metadata": {},
     "output_type": "execute_result"
    }
   ],
   "source": [
    "checklist[0] # К элементам списка можно получить доступ через индекс."
   ]
  },
  {
   "cell_type": "code",
   "execution_count": 40,
   "id": "black-wrong",
   "metadata": {},
   "outputs": [
    {
     "data": {
      "text/plain": [
       "3"
      ]
     },
     "execution_count": 40,
     "metadata": {},
     "output_type": "execute_result"
    }
   ],
   "source": [
    "checklist[2]"
   ]
  },
  {
   "cell_type": "code",
   "execution_count": null,
   "id": "southwest-grace",
   "metadata": {},
   "outputs": [],
   "source": [
    "                                   #  0 1 2 3 4 5 6 7 8 \n",
    "checklist = [1,2,3,4,5,6,7,8,9]    # [1,2,3,4,5,6,7,8,9]\n",
    "\n",
    "# Как и в строках, нумерация элементов списка начинается с нуля."
   ]
  },
  {
   "cell_type": "code",
   "execution_count": 42,
   "id": "suspected-nightmare",
   "metadata": {},
   "outputs": [
    {
     "ename": "IndexError",
     "evalue": "list index out of range",
     "output_type": "error",
     "traceback": [
      "\u001b[1;31m---------------------------------------------------------------------------\u001b[0m",
      "\u001b[1;31mIndexError\u001b[0m                                Traceback (most recent call last)",
      "\u001b[1;32m<ipython-input-42-4320cb39cda2>\u001b[0m in \u001b[0;36m<module>\u001b[1;34m\u001b[0m\n\u001b[1;32m----> 1\u001b[1;33m \u001b[0mchecklist\u001b[0m\u001b[1;33m[\u001b[0m\u001b[1;36m9\u001b[0m\u001b[1;33m]\u001b[0m \u001b[1;31m# Если мы захотим выйти за диапазон списка, то будет ошибка.\u001b[0m\u001b[1;33m\u001b[0m\u001b[1;33m\u001b[0m\u001b[0m\n\u001b[0m",
      "\u001b[1;31mIndexError\u001b[0m: list index out of range"
     ]
    }
   ],
   "source": [
    "checklist[9] # Если мы захотим выйти за диапазон списка, то будет ошибка."
   ]
  },
  {
   "cell_type": "code",
   "execution_count": null,
   "id": "urban-subdivision",
   "metadata": {},
   "outputs": [],
   "source": [
    "# К элементам списка, как и к элементам строки, можно получить доступ с помощью отрицательного индекса\n",
    "# Последний элемента списка всегда имеет значение (-1)\n",
    "# Соответственно, предпоследний индекс имеет значение (-2) и т.д.\n",
    "\n",
    "                                   #   0  1  2  3  4  5  6  7  8 \n",
    "checklist = [1,2,3,4,5,6,7,8,9]    #  [1, 2, 3, 4, 5, 6, 7, 8, 9]\n",
    "                                   #  -1 -2 -3 -4 -5 -6 -7 -8 -9"
   ]
  },
  {
   "cell_type": "code",
   "execution_count": 44,
   "id": "derived-insured",
   "metadata": {},
   "outputs": [
    {
     "data": {
      "text/plain": [
       "(9, [1, 2, 3, 4, 5, 6, 7, 8, 9])"
      ]
     },
     "execution_count": 44,
     "metadata": {},
     "output_type": "execute_result"
    }
   ],
   "source": [
    "# Как мы знаем, элемент в строке нельзя изменить, но в списке это сделать можно\n",
    "\n",
    "checklist[8], checklist # Возьмём восьмой элемент."
   ]
  },
  {
   "cell_type": "code",
   "execution_count": 48,
   "id": "western-wrestling",
   "metadata": {},
   "outputs": [
    {
     "data": {
      "text/plain": [
       "[1, 2, 3, 4, 5, 6, 7, 8, 123]"
      ]
     },
     "execution_count": 48,
     "metadata": {},
     "output_type": "execute_result"
    }
   ],
   "source": [
    "checklist[8] = 123  # Изменим восьмой элемент списка.\n",
    "checklist # число 9 превратилось в 123."
   ]
  },
  {
   "cell_type": "markdown",
   "id": "lined-armstrong",
   "metadata": {},
   "source": [
    "<a id=\"2.3\"></a>\n",
    "    \n",
    "<font size=\"+2\" color=\"indigo\"><b>2.3 Сложный индекс</b></font><br>"
   ]
  },
  {
   "cell_type": "code",
   "execution_count": 50,
   "id": "portuguese-corrections",
   "metadata": {},
   "outputs": [],
   "source": [
    "# Cоздадим новый список.\n",
    "\n",
    "checklist_next = [1, 2, 3, 4, \"Иван\", 5, 6, 7, \"Иванов\"]"
   ]
  },
  {
   "cell_type": "code",
   "execution_count": 51,
   "id": "laden-vancouver",
   "metadata": {},
   "outputs": [],
   "source": [
    "# Для простоты к каждому элементу списка допишем его индекс. \n",
    "\n",
    "#         0   1      2      3     4           5      6     7      8\n",
    "#        [1,  2,     3,     4, \"Иван\",        5,     6,    7, \"Иванов\"]\n",
    "#        -9  -8     -7     -6     -5        -4     -3     -2     -1"
   ]
  },
  {
   "cell_type": "code",
   "execution_count": 52,
   "id": "hybrid-initial",
   "metadata": {},
   "outputs": [
    {
     "data": {
      "text/plain": [
       "[4, 'Иван']"
      ]
     },
     "execution_count": 52,
     "metadata": {},
     "output_type": "execute_result"
    }
   ],
   "source": [
    "# Теперь давайте посмотрим, каким образом можно получить элементы с третьего по пятый.\n",
    "\n",
    "checklist_next[3:5] # Элемент с пятым индексом не был включен в вывод."
   ]
  },
  {
   "cell_type": "code",
   "execution_count": 53,
   "id": "sophisticated-truth",
   "metadata": {},
   "outputs": [
    {
     "data": {
      "text/plain": [
       "[4, 'Иван', 5]"
      ]
     },
     "execution_count": 53,
     "metadata": {},
     "output_type": "execute_result"
    }
   ],
   "source": [
    "checklist_next[3:6] # Теперь элемент с пятым индексом удалось включить в индекс.\n"
   ]
  },
  {
   "cell_type": "code",
   "execution_count": 54,
   "id": "organic-student",
   "metadata": {},
   "outputs": [
    {
     "data": {
      "text/plain": [
       "[4, 'Иван', 5, 6, 7, 'Иванов']"
      ]
     },
     "execution_count": 54,
     "metadata": {},
     "output_type": "execute_result"
    }
   ],
   "source": [
    "checklist_next[3:] # Если не указать конечное значение, то мы получим все элементы\n",
    "                   # списка, начиная с третьего."
   ]
  },
  {
   "cell_type": "code",
   "execution_count": 55,
   "id": "appointed-possibility",
   "metadata": {},
   "outputs": [
    {
     "data": {
      "text/plain": [
       "[1, 2, 3]"
      ]
     },
     "execution_count": 55,
     "metadata": {},
     "output_type": "execute_result"
    }
   ],
   "source": [
    "checklist_next[:3] # Таким образом, мы получим все элементы списка до третьего\n",
    "                   # третий элемент не был включен (крайнее значение не включается)."
   ]
  },
  {
   "cell_type": "code",
   "execution_count": 56,
   "id": "robust-steps",
   "metadata": {},
   "outputs": [
    {
     "data": {
      "text/plain": [
       "[1, 2, 3, 4, 'Иван', 5, 6]"
      ]
     },
     "execution_count": 56,
     "metadata": {},
     "output_type": "execute_result"
    }
   ],
   "source": [
    "checklist_next[:-2] # Пример с отрицательным индексом."
   ]
  },
  {
   "cell_type": "code",
   "execution_count": 60,
   "id": "front-publicity",
   "metadata": {},
   "outputs": [
    {
     "data": {
      "text/plain": [
       "[3, 'Иван', 6]"
      ]
     },
     "execution_count": 60,
     "metadata": {},
     "output_type": "execute_result"
    }
   ],
   "source": [
    "checklist_next[2:7:2] # В данном случае мы хотим получить со второго элемента\n",
    "                      # по шестой (не забываем, что седьмой элемент не включается),\n",
    "                      # но только каждый второй.\n",
    "    \n",
    "# Давайте подробнее рассмотрим данный пример.\n",
    "# checklist_next[2:7] # После данной операции получится следующий список: [3, 4, 'Иван', 5, 6].\n",
    "# Но нам нужнен каждый второй элемент, начиная с начала сформировавшегося списка.\n",
    "\n",
    "#  0  1    2     3  4 \n",
    "# [3, 4, 'Иван', 5, 6]\n",
    "#     1    2     1  2  # В этой строке пронумерован каждый второй элемент.\n",
    "                       # Первый элемент не нумеруется, так как это начало диапазона,\n",
    "                       # поэтому он изначально включается в исходный вывод. "
   ]
  },
  {
   "cell_type": "code",
   "execution_count": 61,
   "id": "amateur-opposition",
   "metadata": {},
   "outputs": [
    {
     "data": {
      "text/plain": [
       "[2, 4, 5, 7]"
      ]
     },
     "execution_count": 61,
     "metadata": {},
     "output_type": "execute_result"
    }
   ],
   "source": [
    "checklist_next[1::2] # Данная строка означает, что мы хотим получить список,\n",
    "                     # начиная с первого элемента и до последнего с шагом два."
   ]
  },
  {
   "cell_type": "code",
   "execution_count": 62,
   "id": "architectural-channels",
   "metadata": {},
   "outputs": [
    {
     "data": {
      "text/plain": [
       "[1, 2, 3, 4, 'Иван', 5, 6, 7, 'Иванов']"
      ]
     },
     "execution_count": 62,
     "metadata": {},
     "output_type": "execute_result"
    }
   ],
   "source": [
    "checklist_next"
   ]
  },
  {
   "cell_type": "code",
   "execution_count": 63,
   "id": "determined-bulgaria",
   "metadata": {},
   "outputs": [
    {
     "data": {
      "text/plain": [
       "[1, 34, 3, 35, 'Иван', 23, 6, 67, 'Иванов']"
      ]
     },
     "execution_count": 63,
     "metadata": {},
     "output_type": "execute_result"
    }
   ],
   "source": [
    "checklist_next[1::2] = [34, 35, 23, 67] # В списке можно поменять сразу несколько значений. \n",
    "checklist_next"
   ]
  },
  {
   "cell_type": "markdown",
   "id": "cardiovascular-module",
   "metadata": {},
   "source": [
    "<a id=\"2.4\"></a>\n",
    "    \n",
    "<font size=\"+2\" color=\"indigo\"><b>2.4 Поиск элемента в списке</b></font><br>"
   ]
  },
  {
   "cell_type": "code",
   "execution_count": 21,
   "id": "usual-kitty",
   "metadata": {},
   "outputs": [],
   "source": [
    "checklist = [1,2,3,4,5,6,7,8,9] # Возьмём наш список."
   ]
  },
  {
   "cell_type": "code",
   "execution_count": 24,
   "id": "major-religious",
   "metadata": {},
   "outputs": [
    {
     "data": {
      "text/plain": [
       "(True, True)"
      ]
     },
     "execution_count": 24,
     "metadata": {},
     "output_type": "execute_result"
    }
   ],
   "source": [
    "1 in checklist, 1 in [1,2,3,4,5,6,7,8,9] # Если мы хотим определить, есть ли элемент в заданном списке,\n",
    "                                         # то сначала необходимо написать элемент, а потом операцию \"in\".\n",
    "                                         # Если элемент есть в списке, то вернётся True, если нет - False."
   ]
  },
  {
   "cell_type": "code",
   "execution_count": 25,
   "id": "peripheral-stuart",
   "metadata": {},
   "outputs": [
    {
     "data": {
      "text/plain": [
       "(True, True)"
      ]
     },
     "execution_count": 25,
     "metadata": {},
     "output_type": "execute_result"
    }
   ],
   "source": [
    "7 in checklist, 7 in [1,2,3,4,5,6,7,8,9] # Ещё один пример."
   ]
  },
  {
   "cell_type": "code",
   "execution_count": 26,
   "id": "mobile-fireplace",
   "metadata": {},
   "outputs": [
    {
     "data": {
      "text/plain": [
       "(False, False)"
      ]
     },
     "execution_count": 26,
     "metadata": {},
     "output_type": "execute_result"
    }
   ],
   "source": [
    "10 in checklist, 10 in [1,2,3,4,5,6,7,8,9] # Элемента в списке нет."
   ]
  },
  {
   "cell_type": "code",
   "execution_count": 28,
   "id": "utility-capacity",
   "metadata": {},
   "outputs": [
    {
     "data": {
      "text/plain": [
       "(True, True)"
      ]
     },
     "execution_count": 28,
     "metadata": {},
     "output_type": "execute_result"
    }
   ],
   "source": [
    "10 not in checklist, 10 not in [1,2,3,4,5,6,7,8,9] # Операция \"not in\" применяется, если \n",
    "                                                   # мы хотим проверить, нет ли элемента в списке. \n",
    "                                                   # Если элемента нет в списке, то вернётся True, если есть - False."
   ]
  },
  {
   "cell_type": "code",
   "execution_count": 31,
   "id": "effective-protein",
   "metadata": {},
   "outputs": [
    {
     "data": {
      "text/plain": [
       "(False, False)"
      ]
     },
     "execution_count": 31,
     "metadata": {},
     "output_type": "execute_result"
    }
   ],
   "source": [
    "7 not in checklist, 7 not in [1,2,3,4,5,6,7,8,9] # Элемент в списке есть."
   ]
  },
  {
   "cell_type": "code",
   "execution_count": 64,
   "id": "human-leader",
   "metadata": {},
   "outputs": [
    {
     "data": {
      "text/plain": [
       "6"
      ]
     },
     "execution_count": 64,
     "metadata": {},
     "output_type": "execute_result"
    }
   ],
   "source": [
    "checklist.index(7) # Данный метод позволяет найти индекс элемента, который равен семи. "
   ]
  },
  {
   "cell_type": "code",
   "execution_count": 65,
   "id": "powered-aurora",
   "metadata": {},
   "outputs": [
    {
     "data": {
      "text/plain": [
       "[1, 34, 3, 35, 'Иван', 23, 6, 67, 'Иванов']"
      ]
     },
     "execution_count": 65,
     "metadata": {},
     "output_type": "execute_result"
    }
   ],
   "source": [
    "checklist_next"
   ]
  },
  {
   "cell_type": "code",
   "execution_count": 66,
   "id": "supreme-procurement",
   "metadata": {},
   "outputs": [
    {
     "data": {
      "text/plain": [
       "4"
      ]
     },
     "execution_count": 66,
     "metadata": {},
     "output_type": "execute_result"
    }
   ],
   "source": [
    "checklist_next.index(\"Иван\") # Можно искать и строки. "
   ]
  },
  {
   "cell_type": "code",
   "execution_count": 7,
   "id": "weekly-container",
   "metadata": {},
   "outputs": [
    {
     "data": {
      "text/plain": [
       "4"
      ]
     },
     "execution_count": 7,
     "metadata": {},
     "output_type": "execute_result"
    }
   ],
   "source": [
    "# А что будет, если в списке несколько одинаковых элементов? \n",
    "[1, 34, 3, 35, 'Иван', 23, 6, 67, 'Иванов', 'Иван'].index(\"Иван\")\n",
    "\n",
    "# Данный метод возвращает индекс первого вхождения элемента."
   ]
  },
  {
   "cell_type": "code",
   "execution_count": 9,
   "id": "immune-soviet",
   "metadata": {},
   "outputs": [
    {
     "data": {
      "text/plain": [
       "9"
      ]
     },
     "execution_count": 9,
     "metadata": {},
     "output_type": "execute_result"
    }
   ],
   "source": [
    "[1, 34, 3, 35, 'Иван', 23, 6, 67, 'Иванов', 'Иван'].index(\"Иван\",5)\n",
    "\n",
    "# Для того чтобы найти индекс следующего вхождения, необходимо \n",
    "# дописать в скобках (\"Иван\",5), с какого индекса нужно искать элемент.\n",
    "# В данном случае мы начнём искать с индекса 5, так как под индексом 4 уже\n",
    "# есть элемент \"Иван\"."
   ]
  },
  {
   "cell_type": "markdown",
   "id": "vanilla-drinking",
   "metadata": {},
   "source": [
    "<a id=\"2.5\"></a>\n",
    "    \n",
    "<font size=\"+2\" color=\"indigo\"><b>2.5 Проблема списков</b></font><br>"
   ]
  },
  {
   "cell_type": "code",
   "execution_count": 19,
   "id": "suitable-rolling",
   "metadata": {},
   "outputs": [
    {
     "data": {
      "text/plain": [
       "([10, 2, 3, 4, 5], [10, 2, 3, 4, 5])"
      ]
     },
     "execution_count": 19,
     "metadata": {},
     "output_type": "execute_result"
    }
   ],
   "source": [
    "# Давайте рассмотрим следующий пример. \n",
    "\n",
    "list_control = [1,2,3,4,5]\n",
    "list_test = list_control\n",
    "list_control[0] = 10\n",
    "list_test, list_control\n",
    "\n",
    "# Мы изменили список list_control, однако дополнительно к этому изменился список list_test.\n",
    "# Мы этого не ожидали. "
   ]
  },
  {
   "cell_type": "code",
   "execution_count": null,
   "id": "individual-think",
   "metadata": {},
   "outputs": [],
   "source": [
    "# На самом деле, в Python нет переменных, но есть ссылки на объект.\n",
    "# Когда Python выполнил данную команду list_test = list_control,\n",
    "# не создалось нового объекта, а просто появилась ссылка на тот же список [1,2,3,4,5]\n",
    "# Python так делает, чтобы сэкономить память и из-за того, что не дублирует объекты.\n",
    "# Поэтому при использовании списков нужно быть осторожным. "
   ]
  },
  {
   "cell_type": "markdown",
   "id": "listed-garage",
   "metadata": {},
   "source": [
    "<img src=\"https://docs.google.com/drawings/d/e/2PACX-1vQ-3lKs_Ik-Y_7sVLWJOM4iyb7K9Ct6-dB80IRpEQYD8Trx85MjN77cV9U6mcuLfKKALu_hDjbf_VL9/pub?w=960&amp;h=720\">"
   ]
  },
  {
   "cell_type": "code",
   "execution_count": 71,
   "id": "severe-celebrity",
   "metadata": {},
   "outputs": [
    {
     "data": {
      "text/plain": [
       "([1, 2, 3, 4, 5], [10, 2, 3, 4, 5])"
      ]
     },
     "execution_count": 71,
     "metadata": {},
     "output_type": "execute_result"
    }
   ],
   "source": [
    "list_control = [1,2,3,4,5]\n",
    "list_test = list_control.copy()\n",
    "list_control[0] = 10\n",
    "list_test, list_control"
   ]
  },
  {
   "cell_type": "code",
   "execution_count": null,
   "id": "funded-sally",
   "metadata": {},
   "outputs": [],
   "source": [
    "# Для того чтобы создался новый объект, используется метод copy(),\n",
    "# тогда мы получим уже ожидаемые результаты. "
   ]
  },
  {
   "cell_type": "markdown",
   "id": "exclusive-integrity",
   "metadata": {},
   "source": [
    "<img src=\"https://docs.google.com/drawings/d/e/2PACX-1vS-laBRTQ69wMy0JuHg3vjri5QLprfLQC7wdaAOCDtejSHZcJSNsKflg6aHb4A8Ds-2WC4Amm_YQU-M/pub?w=1440&amp;h=1080\">"
   ]
  },
  {
   "cell_type": "markdown",
   "id": "patent-reasoning",
   "metadata": {},
   "source": [
    "<a id=\"3\"></a>\n",
    "\n",
    "<font size=\"+2\" color=\"indigo\"><b>3. Простые условия</b></font><br>"
   ]
  },
  {
   "cell_type": "markdown",
   "id": "swedish-switch",
   "metadata": {},
   "source": [
    "В повседневной жизни мы всё время сталкиваемся с условиями. Например, мы не опоздаем на работу,\n",
    "если выполнится два условия: прозвенит будильник и на дороге нет пробок. Другой пример: мы хотим поехать на работу на автомобиле, но если автомобиль не заправлен, то поедем на метро. \n",
    "\n",
    "В питоне условия задаются следующими операторами: **if, elif, else**."
   ]
  },
  {
   "cell_type": "code",
   "execution_count": 127,
   "id": "brief-seating",
   "metadata": {},
   "outputs": [
    {
     "name": "stdout",
     "output_type": "stream",
     "text": [
      "Это пять\n"
     ]
    }
   ],
   "source": [
    "# Конструкция всегда начинается с оператора if.\n",
    "# Если выражение, записаное после оператора if неверно, то в некоторых случаях\n",
    "# можно прописать оператор else. Else выполняется в том случае, когда выражение \n",
    "# после if неверно.\n",
    "\n",
    "a = 5\n",
    "if a == 5: # Двоеточия ставить обязательно.\n",
    "    print(\"Это пять\") # Если a равно 5, то напечается словосочетание \"Это пять\"\n",
    "else:\n",
    "    print(\"Другое число\") # Если a не равно 5, то напечается словосочетание \"Другое число\"\n",
    "    \n",
    "#### Если мы записали операторы if, elif, else, то следующая строка должна начинаться\n",
    "#### с отступа (по стандартам это 4 пробела), так интерпретатор понимает, что мы находимся\n",
    "#### в блоке выполнения условия. "
   ]
  },
  {
   "cell_type": "code",
   "execution_count": 3,
   "id": "round-consumption",
   "metadata": {},
   "outputs": [
    {
     "name": "stdout",
     "output_type": "stream",
     "text": [
      "Другое число\n"
     ]
    }
   ],
   "source": [
    "a = 10 \n",
    "if a == 5:\n",
    "    print(\"Это пять\")\n",
    "else:\n",
    "    print(\"Другое число\")\n",
    "    \n",
    "# В данном случае выполнился оператор else, так как a(10) не равно пяти."
   ]
  },
  {
   "cell_type": "code",
   "execution_count": 2,
   "id": "useful-hundred",
   "metadata": {},
   "outputs": [
    {
     "ename": "SyntaxError",
     "evalue": "invalid syntax (<ipython-input-2-f1f7403c8d39>, line 2)",
     "output_type": "error",
     "traceback": [
      "\u001b[1;36m  File \u001b[1;32m\"<ipython-input-2-f1f7403c8d39>\"\u001b[1;36m, line \u001b[1;32m2\u001b[0m\n\u001b[1;33m    if a == 5\u001b[0m\n\u001b[1;37m             ^\u001b[0m\n\u001b[1;31mSyntaxError\u001b[0m\u001b[1;31m:\u001b[0m invalid syntax\n"
     ]
    }
   ],
   "source": [
    "a = 5\n",
    "if a == 5 # Если не поставить двоеточие, то возникнет синтаксическая ошибка.\n",
    "    print(\"Это пять\")\n",
    "else:\n",
    "    print(\"Другое число\")"
   ]
  },
  {
   "cell_type": "code",
   "execution_count": 6,
   "id": "saved-green",
   "metadata": {},
   "outputs": [
    {
     "ename": "IndentationError",
     "evalue": "expected an indented block (<ipython-input-6-b70b765b1b13>, line 3)",
     "output_type": "error",
     "traceback": [
      "\u001b[1;36m  File \u001b[1;32m\"<ipython-input-6-b70b765b1b13>\"\u001b[1;36m, line \u001b[1;32m3\u001b[0m\n\u001b[1;33m    print(\"Это пять\")  # Нет отступа\u001b[0m\n\u001b[1;37m        ^\u001b[0m\n\u001b[1;31mIndentationError\u001b[0m\u001b[1;31m:\u001b[0m expected an indented block\n"
     ]
    }
   ],
   "source": [
    "a = 5\n",
    "if a == 5:\n",
    "print(\"Это пять\")  # Нет отступа\n",
    "else:\n",
    "    print(\"Другое число\")"
   ]
  },
  {
   "cell_type": "code",
   "execution_count": 1,
   "id": "chief-donna",
   "metadata": {},
   "outputs": [
    {
     "name": "stdout",
     "output_type": "stream",
     "text": [
      "Другое число\n"
     ]
    }
   ],
   "source": [
    "# Оператор else необязательно записывать.\n",
    "# В этом случае если a не равно пяти, то программа будет выполняться дальше.\n",
    "a = 10\n",
    "if a == 5:\n",
    "    print(\"Это пять\") # Если a равно 5, то напечается словосочетание \"Это пять\"\n",
    "print(\"Другое число\")"
   ]
  },
  {
   "cell_type": "code",
   "execution_count": 139,
   "id": "useful-holmes",
   "metadata": {},
   "outputs": [
    {
     "name": "stdout",
     "output_type": "stream",
     "text": [
      "Другое число\n"
     ]
    }
   ],
   "source": [
    "# Если необходимо проверить несколько условий, то используется оператор elif.\n",
    "\n",
    "a = 100\n",
    "\n",
    "if a < 5:                      # Первое условие.\n",
    "    print(\"Число меньше пяти\")\n",
    "elif 5 <= a <= 10:             # Второе условие.\n",
    "    print(\"Число от 5 до 10\")\n",
    "else:                          # Если не выполнились первое и второе условия, то выполняется                             \n",
    "                               # выражение после оператора else.\n",
    "    print(\"Другое число\")"
   ]
  }
 ],
 "metadata": {
  "kernelspec": {
   "display_name": "Python 3",
   "language": "python",
   "name": "python3"
  },
  "language_info": {
   "codemirror_mode": {
    "name": "ipython",
    "version": 3
   },
   "file_extension": ".py",
   "mimetype": "text/x-python",
   "name": "python",
   "nbconvert_exporter": "python",
   "pygments_lexer": "ipython3",
   "version": "3.7.3"
  },
  "toc": {
   "base_numbering": 1,
   "nav_menu": {},
   "number_sections": true,
   "sideBar": true,
   "skip_h1_title": false,
   "title_cell": "Table of Contents",
   "title_sidebar": "Contents",
   "toc_cell": false,
   "toc_position": {
    "height": "calc(100% - 180px)",
    "left": "10px",
    "top": "150px",
    "width": "165px"
   },
   "toc_section_display": true,
   "toc_window_display": true
  }
 },
 "nbformat": 4,
 "nbformat_minor": 5
}
